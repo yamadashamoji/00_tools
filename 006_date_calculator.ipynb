{
  "nbformat": 4,
  "nbformat_minor": 0,
  "metadata": {
    "colab": {
      "provenance": [],
      "authorship_tag": "ABX9TyM2XrpbbTtdLAe5FloEMFxE",
      "include_colab_link": true
    },
    "kernelspec": {
      "name": "python3",
      "display_name": "Python 3"
    },
    "language_info": {
      "name": "python"
    },
    "widgets": {
      "application/vnd.jupyter.widget-state+json": {
        "42dcf93f322440bdb515a1d4d00df5c3": {
          "model_module": "@jupyter-widgets/controls",
          "model_name": "TabModel",
          "model_module_version": "1.5.0",
          "state": {
            "_dom_classes": [],
            "_model_module": "@jupyter-widgets/controls",
            "_model_module_version": "1.5.0",
            "_model_name": "TabModel",
            "_titles": {
              "0": "日数で加算",
              "1": "日付の差分",
              "2": "月単位の加減",
              "3": "平日カウント",
              "4": "カレンダー表示"
            },
            "_view_count": null,
            "_view_module": "@jupyter-widgets/controls",
            "_view_module_version": "1.5.0",
            "_view_name": "TabView",
            "box_style": "",
            "children": [
              "IPY_MODEL_02c010f4198946d2a915031b4e44068a",
              "IPY_MODEL_73f14957be1645ebb6e688ff3c7e7de6",
              "IPY_MODEL_21913acfe8454f12b599c8b8ed0288ef",
              "IPY_MODEL_0ec1ac1d8fbd4cd18a67291d70a85ac5",
              "IPY_MODEL_c40363b6e5d146978c1887662a049450"
            ],
            "layout": "IPY_MODEL_a4db057d8c384a0490d3d9d51bb21e85",
            "selected_index": 0
          }
        },
        "02c010f4198946d2a915031b4e44068a": {
          "model_module": "@jupyter-widgets/controls",
          "model_name": "VBoxModel",
          "model_module_version": "1.5.0",
          "state": {
            "_dom_classes": [],
            "_model_module": "@jupyter-widgets/controls",
            "_model_module_version": "1.5.0",
            "_model_name": "VBoxModel",
            "_view_count": null,
            "_view_module": "@jupyter-widgets/controls",
            "_view_module_version": "1.5.0",
            "_view_name": "VBoxView",
            "box_style": "",
            "children": [
              "IPY_MODEL_d5370013e2224f4e996fc0953ee3a59a",
              "IPY_MODEL_fcdb3cc48cc4467995f960c6aedfd46c",
              "IPY_MODEL_f21e09b6df894212aa8e6ec0a12af16d",
              "IPY_MODEL_253044c0581344c9832b203a8e6d6467"
            ],
            "layout": "IPY_MODEL_bcfa7c1e96fd4d3f81e603863be437cb"
          }
        },
        "73f14957be1645ebb6e688ff3c7e7de6": {
          "model_module": "@jupyter-widgets/controls",
          "model_name": "VBoxModel",
          "model_module_version": "1.5.0",
          "state": {
            "_dom_classes": [],
            "_model_module": "@jupyter-widgets/controls",
            "_model_module_version": "1.5.0",
            "_model_name": "VBoxModel",
            "_view_count": null,
            "_view_module": "@jupyter-widgets/controls",
            "_view_module_version": "1.5.0",
            "_view_name": "VBoxView",
            "box_style": "",
            "children": [
              "IPY_MODEL_c36a162fd19b4c2f9265c26afa4f7bdf",
              "IPY_MODEL_d3aacf81e11d473291b0020b63a4bd37",
              "IPY_MODEL_7c078c2bfcb54071ad347451398317d2",
              "IPY_MODEL_a84158ab0aee46edac678ed605b45223"
            ],
            "layout": "IPY_MODEL_2a177fc15c7a40f6b18df6600ebdef12"
          }
        },
        "21913acfe8454f12b599c8b8ed0288ef": {
          "model_module": "@jupyter-widgets/controls",
          "model_name": "VBoxModel",
          "model_module_version": "1.5.0",
          "state": {
            "_dom_classes": [],
            "_model_module": "@jupyter-widgets/controls",
            "_model_module_version": "1.5.0",
            "_model_name": "VBoxModel",
            "_view_count": null,
            "_view_module": "@jupyter-widgets/controls",
            "_view_module_version": "1.5.0",
            "_view_name": "VBoxView",
            "box_style": "",
            "children": [
              "IPY_MODEL_93b9326440ad4c829cf66a12dbc018ff",
              "IPY_MODEL_7825db97e1df49dcb6d8277bb7295cb8",
              "IPY_MODEL_5b48ced4eaa147d8b1bf09d1d23e7e51",
              "IPY_MODEL_224d495d4c994db0873524d4ff2a17ca"
            ],
            "layout": "IPY_MODEL_0668c253c0b941c59b8b225063dc8bdb"
          }
        },
        "0ec1ac1d8fbd4cd18a67291d70a85ac5": {
          "model_module": "@jupyter-widgets/controls",
          "model_name": "VBoxModel",
          "model_module_version": "1.5.0",
          "state": {
            "_dom_classes": [],
            "_model_module": "@jupyter-widgets/controls",
            "_model_module_version": "1.5.0",
            "_model_name": "VBoxModel",
            "_view_count": null,
            "_view_module": "@jupyter-widgets/controls",
            "_view_module_version": "1.5.0",
            "_view_name": "VBoxView",
            "box_style": "",
            "children": [
              "IPY_MODEL_378839f2c34e4e1f8975815787e16b94",
              "IPY_MODEL_37e303bf3ae745538bcc7b970d5a3edf",
              "IPY_MODEL_e3ad96e48a2d4dada43a4de88e30560d",
              "IPY_MODEL_49ce9e477f4147cdad55535c92933cd9"
            ],
            "layout": "IPY_MODEL_7fb5eff3ce0b48348e30ae0fe1dfdb4a"
          }
        },
        "c40363b6e5d146978c1887662a049450": {
          "model_module": "@jupyter-widgets/controls",
          "model_name": "VBoxModel",
          "model_module_version": "1.5.0",
          "state": {
            "_dom_classes": [],
            "_model_module": "@jupyter-widgets/controls",
            "_model_module_version": "1.5.0",
            "_model_name": "VBoxModel",
            "_view_count": null,
            "_view_module": "@jupyter-widgets/controls",
            "_view_module_version": "1.5.0",
            "_view_name": "VBoxView",
            "box_style": "",
            "children": [
              "IPY_MODEL_05eb373a926e4062b900d4f7a6b7a00a",
              "IPY_MODEL_48586a4af6f44d57b61fbadde63b347f",
              "IPY_MODEL_ee7373f0a94c4f69a804e356767cc5f3",
              "IPY_MODEL_1789e1833401434c8abacdbee2daaf6a"
            ],
            "layout": "IPY_MODEL_3a582e65d75749448c8afb399bf9ef48"
          }
        },
        "a4db057d8c384a0490d3d9d51bb21e85": {
          "model_module": "@jupyter-widgets/base",
          "model_name": "LayoutModel",
          "model_module_version": "1.2.0",
          "state": {
            "_model_module": "@jupyter-widgets/base",
            "_model_module_version": "1.2.0",
            "_model_name": "LayoutModel",
            "_view_count": null,
            "_view_module": "@jupyter-widgets/base",
            "_view_module_version": "1.2.0",
            "_view_name": "LayoutView",
            "align_content": null,
            "align_items": null,
            "align_self": null,
            "border": null,
            "bottom": null,
            "display": null,
            "flex": null,
            "flex_flow": null,
            "grid_area": null,
            "grid_auto_columns": null,
            "grid_auto_flow": null,
            "grid_auto_rows": null,
            "grid_column": null,
            "grid_gap": null,
            "grid_row": null,
            "grid_template_areas": null,
            "grid_template_columns": null,
            "grid_template_rows": null,
            "height": null,
            "justify_content": null,
            "justify_items": null,
            "left": null,
            "margin": null,
            "max_height": null,
            "max_width": null,
            "min_height": null,
            "min_width": null,
            "object_fit": null,
            "object_position": null,
            "order": null,
            "overflow": null,
            "overflow_x": null,
            "overflow_y": null,
            "padding": null,
            "right": null,
            "top": null,
            "visibility": null,
            "width": null
          }
        },
        "d5370013e2224f4e996fc0953ee3a59a": {
          "model_module": "@jupyter-widgets/controls",
          "model_name": "DatePickerModel",
          "model_module_version": "1.5.0",
          "state": {
            "_dom_classes": [],
            "_model_module": "@jupyter-widgets/controls",
            "_model_module_version": "1.5.0",
            "_model_name": "DatePickerModel",
            "_view_count": null,
            "_view_module": "@jupyter-widgets/controls",
            "_view_module_version": "1.5.0",
            "_view_name": "DatePickerView",
            "description": "基準日:",
            "description_tooltip": null,
            "disabled": false,
            "layout": "IPY_MODEL_f8b9525624254169a4d779dddecc3879",
            "style": "IPY_MODEL_30d5a09737014d6e9645dcf03544b3b2",
            "value": {
              "year": 2025,
              "month": 3,
              "date": 13
            }
          }
        },
        "fcdb3cc48cc4467995f960c6aedfd46c": {
          "model_module": "@jupyter-widgets/controls",
          "model_name": "IntTextModel",
          "model_module_version": "1.5.0",
          "state": {
            "_dom_classes": [],
            "_model_module": "@jupyter-widgets/controls",
            "_model_module_version": "1.5.0",
            "_model_name": "IntTextModel",
            "_view_count": null,
            "_view_module": "@jupyter-widgets/controls",
            "_view_module_version": "1.5.0",
            "_view_name": "IntTextView",
            "continuous_update": false,
            "description": "日数:",
            "description_tooltip": null,
            "disabled": false,
            "layout": "IPY_MODEL_c454a47931e147d3a233e1eef1b4a66c",
            "step": 1,
            "style": "IPY_MODEL_a132a6f72f134767ab378cda5fc28cc8",
            "value": 0
          }
        },
        "f21e09b6df894212aa8e6ec0a12af16d": {
          "model_module": "@jupyter-widgets/controls",
          "model_name": "ButtonModel",
          "model_module_version": "1.5.0",
          "state": {
            "_dom_classes": [],
            "_model_module": "@jupyter-widgets/controls",
            "_model_module_version": "1.5.0",
            "_model_name": "ButtonModel",
            "_view_count": null,
            "_view_module": "@jupyter-widgets/controls",
            "_view_module_version": "1.5.0",
            "_view_name": "ButtonView",
            "button_style": "primary",
            "description": "計算する",
            "disabled": false,
            "icon": "",
            "layout": "IPY_MODEL_4056f072c7c34e33994cc2c72441ce6d",
            "style": "IPY_MODEL_2c05c86a947f40a3bf3fe0e4b22a454f",
            "tooltip": ""
          }
        },
        "253044c0581344c9832b203a8e6d6467": {
          "model_module": "@jupyter-widgets/output",
          "model_name": "OutputModel",
          "model_module_version": "1.0.0",
          "state": {
            "_dom_classes": [],
            "_model_module": "@jupyter-widgets/output",
            "_model_module_version": "1.0.0",
            "_model_name": "OutputModel",
            "_view_count": null,
            "_view_module": "@jupyter-widgets/output",
            "_view_module_version": "1.0.0",
            "_view_name": "OutputView",
            "layout": "IPY_MODEL_42ff1aaa8b4e493aae8c153ffbb9dabc",
            "msg_id": "",
            "outputs": []
          }
        },
        "bcfa7c1e96fd4d3f81e603863be437cb": {
          "model_module": "@jupyter-widgets/base",
          "model_name": "LayoutModel",
          "model_module_version": "1.2.0",
          "state": {
            "_model_module": "@jupyter-widgets/base",
            "_model_module_version": "1.2.0",
            "_model_name": "LayoutModel",
            "_view_count": null,
            "_view_module": "@jupyter-widgets/base",
            "_view_module_version": "1.2.0",
            "_view_name": "LayoutView",
            "align_content": null,
            "align_items": null,
            "align_self": null,
            "border": null,
            "bottom": null,
            "display": null,
            "flex": null,
            "flex_flow": null,
            "grid_area": null,
            "grid_auto_columns": null,
            "grid_auto_flow": null,
            "grid_auto_rows": null,
            "grid_column": null,
            "grid_gap": null,
            "grid_row": null,
            "grid_template_areas": null,
            "grid_template_columns": null,
            "grid_template_rows": null,
            "height": null,
            "justify_content": null,
            "justify_items": null,
            "left": null,
            "margin": null,
            "max_height": null,
            "max_width": null,
            "min_height": null,
            "min_width": null,
            "object_fit": null,
            "object_position": null,
            "order": null,
            "overflow": null,
            "overflow_x": null,
            "overflow_y": null,
            "padding": null,
            "right": null,
            "top": null,
            "visibility": null,
            "width": null
          }
        },
        "c36a162fd19b4c2f9265c26afa4f7bdf": {
          "model_module": "@jupyter-widgets/controls",
          "model_name": "DatePickerModel",
          "model_module_version": "1.5.0",
          "state": {
            "_dom_classes": [],
            "_model_module": "@jupyter-widgets/controls",
            "_model_module_version": "1.5.0",
            "_model_name": "DatePickerModel",
            "_view_count": null,
            "_view_module": "@jupyter-widgets/controls",
            "_view_module_version": "1.5.0",
            "_view_name": "DatePickerView",
            "description": "開始日:",
            "description_tooltip": null,
            "disabled": false,
            "layout": "IPY_MODEL_1b2ecaedfb424fc9b987f3fec3a44c05",
            "style": "IPY_MODEL_7e96fed374d0400a99b17f02781090c0",
            "value": {
              "year": 2025,
              "month": 3,
              "date": 13
            }
          }
        },
        "d3aacf81e11d473291b0020b63a4bd37": {
          "model_module": "@jupyter-widgets/controls",
          "model_name": "DatePickerModel",
          "model_module_version": "1.5.0",
          "state": {
            "_dom_classes": [],
            "_model_module": "@jupyter-widgets/controls",
            "_model_module_version": "1.5.0",
            "_model_name": "DatePickerModel",
            "_view_count": null,
            "_view_module": "@jupyter-widgets/controls",
            "_view_module_version": "1.5.0",
            "_view_name": "DatePickerView",
            "description": "終了日:",
            "description_tooltip": null,
            "disabled": false,
            "layout": "IPY_MODEL_5bfc0597883a476da1fb3662cea7e443",
            "style": "IPY_MODEL_1ba047a588ef406b86b99a5819bac24f",
            "value": {
              "year": 2025,
              "month": 3,
              "date": 13
            }
          }
        },
        "7c078c2bfcb54071ad347451398317d2": {
          "model_module": "@jupyter-widgets/controls",
          "model_name": "ButtonModel",
          "model_module_version": "1.5.0",
          "state": {
            "_dom_classes": [],
            "_model_module": "@jupyter-widgets/controls",
            "_model_module_version": "1.5.0",
            "_model_name": "ButtonModel",
            "_view_count": null,
            "_view_module": "@jupyter-widgets/controls",
            "_view_module_version": "1.5.0",
            "_view_name": "ButtonView",
            "button_style": "success",
            "description": "差分を計算",
            "disabled": false,
            "icon": "",
            "layout": "IPY_MODEL_63d63a29c9b84947832a41e73c763e65",
            "style": "IPY_MODEL_ba9da53253fa41bf95a8a36d6bd01810",
            "tooltip": ""
          }
        },
        "a84158ab0aee46edac678ed605b45223": {
          "model_module": "@jupyter-widgets/output",
          "model_name": "OutputModel",
          "model_module_version": "1.0.0",
          "state": {
            "_dom_classes": [],
            "_model_module": "@jupyter-widgets/output",
            "_model_module_version": "1.0.0",
            "_model_name": "OutputModel",
            "_view_count": null,
            "_view_module": "@jupyter-widgets/output",
            "_view_module_version": "1.0.0",
            "_view_name": "OutputView",
            "layout": "IPY_MODEL_0172a1d010c642d0bde49eb5c6763557",
            "msg_id": "",
            "outputs": []
          }
        },
        "2a177fc15c7a40f6b18df6600ebdef12": {
          "model_module": "@jupyter-widgets/base",
          "model_name": "LayoutModel",
          "model_module_version": "1.2.0",
          "state": {
            "_model_module": "@jupyter-widgets/base",
            "_model_module_version": "1.2.0",
            "_model_name": "LayoutModel",
            "_view_count": null,
            "_view_module": "@jupyter-widgets/base",
            "_view_module_version": "1.2.0",
            "_view_name": "LayoutView",
            "align_content": null,
            "align_items": null,
            "align_self": null,
            "border": null,
            "bottom": null,
            "display": null,
            "flex": null,
            "flex_flow": null,
            "grid_area": null,
            "grid_auto_columns": null,
            "grid_auto_flow": null,
            "grid_auto_rows": null,
            "grid_column": null,
            "grid_gap": null,
            "grid_row": null,
            "grid_template_areas": null,
            "grid_template_columns": null,
            "grid_template_rows": null,
            "height": null,
            "justify_content": null,
            "justify_items": null,
            "left": null,
            "margin": null,
            "max_height": null,
            "max_width": null,
            "min_height": null,
            "min_width": null,
            "object_fit": null,
            "object_position": null,
            "order": null,
            "overflow": null,
            "overflow_x": null,
            "overflow_y": null,
            "padding": null,
            "right": null,
            "top": null,
            "visibility": null,
            "width": null
          }
        },
        "93b9326440ad4c829cf66a12dbc018ff": {
          "model_module": "@jupyter-widgets/controls",
          "model_name": "DatePickerModel",
          "model_module_version": "1.5.0",
          "state": {
            "_dom_classes": [],
            "_model_module": "@jupyter-widgets/controls",
            "_model_module_version": "1.5.0",
            "_model_name": "DatePickerModel",
            "_view_count": null,
            "_view_module": "@jupyter-widgets/controls",
            "_view_module_version": "1.5.0",
            "_view_name": "DatePickerView",
            "description": "基準日:",
            "description_tooltip": null,
            "disabled": false,
            "layout": "IPY_MODEL_359ca3f488874ec7ac6c5c28a06cff0a",
            "style": "IPY_MODEL_ea8e5f99748246c0bc0019129ed0e7d9",
            "value": {
              "year": 2025,
              "month": 3,
              "date": 13
            }
          }
        },
        "7825db97e1df49dcb6d8277bb7295cb8": {
          "model_module": "@jupyter-widgets/controls",
          "model_name": "IntTextModel",
          "model_module_version": "1.5.0",
          "state": {
            "_dom_classes": [],
            "_model_module": "@jupyter-widgets/controls",
            "_model_module_version": "1.5.0",
            "_model_name": "IntTextModel",
            "_view_count": null,
            "_view_module": "@jupyter-widgets/controls",
            "_view_module_version": "1.5.0",
            "_view_name": "IntTextView",
            "continuous_update": false,
            "description": "月数:",
            "description_tooltip": null,
            "disabled": false,
            "layout": "IPY_MODEL_cdb65b902bf749b7b9fc358653383c08",
            "step": 1,
            "style": "IPY_MODEL_ab25c2032aed40988677db7ba899477a",
            "value": 0
          }
        },
        "5b48ced4eaa147d8b1bf09d1d23e7e51": {
          "model_module": "@jupyter-widgets/controls",
          "model_name": "ButtonModel",
          "model_module_version": "1.5.0",
          "state": {
            "_dom_classes": [],
            "_model_module": "@jupyter-widgets/controls",
            "_model_module_version": "1.5.0",
            "_model_name": "ButtonModel",
            "_view_count": null,
            "_view_module": "@jupyter-widgets/controls",
            "_view_module_version": "1.5.0",
            "_view_name": "ButtonView",
            "button_style": "info",
            "description": "計算する",
            "disabled": false,
            "icon": "",
            "layout": "IPY_MODEL_c2d70d1ccfd8473a9ea851dfad20f97a",
            "style": "IPY_MODEL_3008414fed1d4c3aa2f4385366cecd02",
            "tooltip": ""
          }
        },
        "224d495d4c994db0873524d4ff2a17ca": {
          "model_module": "@jupyter-widgets/output",
          "model_name": "OutputModel",
          "model_module_version": "1.0.0",
          "state": {
            "_dom_classes": [],
            "_model_module": "@jupyter-widgets/output",
            "_model_module_version": "1.0.0",
            "_model_name": "OutputModel",
            "_view_count": null,
            "_view_module": "@jupyter-widgets/output",
            "_view_module_version": "1.0.0",
            "_view_name": "OutputView",
            "layout": "IPY_MODEL_7561045fec784a2482e539e7e6fe5f6e",
            "msg_id": "",
            "outputs": []
          }
        },
        "0668c253c0b941c59b8b225063dc8bdb": {
          "model_module": "@jupyter-widgets/base",
          "model_name": "LayoutModel",
          "model_module_version": "1.2.0",
          "state": {
            "_model_module": "@jupyter-widgets/base",
            "_model_module_version": "1.2.0",
            "_model_name": "LayoutModel",
            "_view_count": null,
            "_view_module": "@jupyter-widgets/base",
            "_view_module_version": "1.2.0",
            "_view_name": "LayoutView",
            "align_content": null,
            "align_items": null,
            "align_self": null,
            "border": null,
            "bottom": null,
            "display": null,
            "flex": null,
            "flex_flow": null,
            "grid_area": null,
            "grid_auto_columns": null,
            "grid_auto_flow": null,
            "grid_auto_rows": null,
            "grid_column": null,
            "grid_gap": null,
            "grid_row": null,
            "grid_template_areas": null,
            "grid_template_columns": null,
            "grid_template_rows": null,
            "height": null,
            "justify_content": null,
            "justify_items": null,
            "left": null,
            "margin": null,
            "max_height": null,
            "max_width": null,
            "min_height": null,
            "min_width": null,
            "object_fit": null,
            "object_position": null,
            "order": null,
            "overflow": null,
            "overflow_x": null,
            "overflow_y": null,
            "padding": null,
            "right": null,
            "top": null,
            "visibility": null,
            "width": null
          }
        },
        "378839f2c34e4e1f8975815787e16b94": {
          "model_module": "@jupyter-widgets/controls",
          "model_name": "DatePickerModel",
          "model_module_version": "1.5.0",
          "state": {
            "_dom_classes": [],
            "_model_module": "@jupyter-widgets/controls",
            "_model_module_version": "1.5.0",
            "_model_name": "DatePickerModel",
            "_view_count": null,
            "_view_module": "@jupyter-widgets/controls",
            "_view_module_version": "1.5.0",
            "_view_name": "DatePickerView",
            "description": "開始日:",
            "description_tooltip": null,
            "disabled": false,
            "layout": "IPY_MODEL_0a9a17a06c834986badc43c46f7010cb",
            "style": "IPY_MODEL_b1d321db1bdf4f15bb68782711f2c14e",
            "value": {
              "year": 2025,
              "month": 3,
              "date": 13
            }
          }
        },
        "37e303bf3ae745538bcc7b970d5a3edf": {
          "model_module": "@jupyter-widgets/controls",
          "model_name": "DatePickerModel",
          "model_module_version": "1.5.0",
          "state": {
            "_dom_classes": [],
            "_model_module": "@jupyter-widgets/controls",
            "_model_module_version": "1.5.0",
            "_model_name": "DatePickerModel",
            "_view_count": null,
            "_view_module": "@jupyter-widgets/controls",
            "_view_module_version": "1.5.0",
            "_view_name": "DatePickerView",
            "description": "終了日:",
            "description_tooltip": null,
            "disabled": false,
            "layout": "IPY_MODEL_909ccdf844884c15938d05bd60ef7e9c",
            "style": "IPY_MODEL_38f774f7143f4585b307e80eb998031e",
            "value": {
              "year": 2025,
              "month": 3,
              "date": 13
            }
          }
        },
        "e3ad96e48a2d4dada43a4de88e30560d": {
          "model_module": "@jupyter-widgets/controls",
          "model_name": "ButtonModel",
          "model_module_version": "1.5.0",
          "state": {
            "_dom_classes": [],
            "_model_module": "@jupyter-widgets/controls",
            "_model_module_version": "1.5.0",
            "_model_name": "ButtonModel",
            "_view_count": null,
            "_view_module": "@jupyter-widgets/controls",
            "_view_module_version": "1.5.0",
            "_view_name": "ButtonView",
            "button_style": "warning",
            "description": "平日のみ計算",
            "disabled": false,
            "icon": "",
            "layout": "IPY_MODEL_33e1274ca2834feb9fca873ff75daf0d",
            "style": "IPY_MODEL_faaad882093944e2afc7e73c622d3712",
            "tooltip": ""
          }
        },
        "49ce9e477f4147cdad55535c92933cd9": {
          "model_module": "@jupyter-widgets/output",
          "model_name": "OutputModel",
          "model_module_version": "1.0.0",
          "state": {
            "_dom_classes": [],
            "_model_module": "@jupyter-widgets/output",
            "_model_module_version": "1.0.0",
            "_model_name": "OutputModel",
            "_view_count": null,
            "_view_module": "@jupyter-widgets/output",
            "_view_module_version": "1.0.0",
            "_view_name": "OutputView",
            "layout": "IPY_MODEL_bacefa3dd2944919aee9ae5c06cb6b81",
            "msg_id": "",
            "outputs": []
          }
        },
        "7fb5eff3ce0b48348e30ae0fe1dfdb4a": {
          "model_module": "@jupyter-widgets/base",
          "model_name": "LayoutModel",
          "model_module_version": "1.2.0",
          "state": {
            "_model_module": "@jupyter-widgets/base",
            "_model_module_version": "1.2.0",
            "_model_name": "LayoutModel",
            "_view_count": null,
            "_view_module": "@jupyter-widgets/base",
            "_view_module_version": "1.2.0",
            "_view_name": "LayoutView",
            "align_content": null,
            "align_items": null,
            "align_self": null,
            "border": null,
            "bottom": null,
            "display": null,
            "flex": null,
            "flex_flow": null,
            "grid_area": null,
            "grid_auto_columns": null,
            "grid_auto_flow": null,
            "grid_auto_rows": null,
            "grid_column": null,
            "grid_gap": null,
            "grid_row": null,
            "grid_template_areas": null,
            "grid_template_columns": null,
            "grid_template_rows": null,
            "height": null,
            "justify_content": null,
            "justify_items": null,
            "left": null,
            "margin": null,
            "max_height": null,
            "max_width": null,
            "min_height": null,
            "min_width": null,
            "object_fit": null,
            "object_position": null,
            "order": null,
            "overflow": null,
            "overflow_x": null,
            "overflow_y": null,
            "padding": null,
            "right": null,
            "top": null,
            "visibility": null,
            "width": null
          }
        },
        "05eb373a926e4062b900d4f7a6b7a00a": {
          "model_module": "@jupyter-widgets/controls",
          "model_name": "IntTextModel",
          "model_module_version": "1.5.0",
          "state": {
            "_dom_classes": [],
            "_model_module": "@jupyter-widgets/controls",
            "_model_module_version": "1.5.0",
            "_model_name": "IntTextModel",
            "_view_count": null,
            "_view_module": "@jupyter-widgets/controls",
            "_view_module_version": "1.5.0",
            "_view_name": "IntTextView",
            "continuous_update": false,
            "description": "年:",
            "description_tooltip": null,
            "disabled": false,
            "layout": "IPY_MODEL_342d49d65f7d439ba571e1305c8e5a7e",
            "step": 1,
            "style": "IPY_MODEL_f2ee6fd7babe4c39a113e91b2f8c89c9",
            "value": 2025
          }
        },
        "48586a4af6f44d57b61fbadde63b347f": {
          "model_module": "@jupyter-widgets/controls",
          "model_name": "IntSliderModel",
          "model_module_version": "1.5.0",
          "state": {
            "_dom_classes": [],
            "_model_module": "@jupyter-widgets/controls",
            "_model_module_version": "1.5.0",
            "_model_name": "IntSliderModel",
            "_view_count": null,
            "_view_module": "@jupyter-widgets/controls",
            "_view_module_version": "1.5.0",
            "_view_name": "IntSliderView",
            "continuous_update": true,
            "description": "月:",
            "description_tooltip": null,
            "disabled": false,
            "layout": "IPY_MODEL_ac36bdced26e4c54abd630e0819d6e1f",
            "max": 12,
            "min": 1,
            "orientation": "horizontal",
            "readout": true,
            "readout_format": "d",
            "step": 1,
            "style": "IPY_MODEL_27183e3a1a804ca0890a5e61b63dabdd",
            "value": 8
          }
        },
        "ee7373f0a94c4f69a804e356767cc5f3": {
          "model_module": "@jupyter-widgets/controls",
          "model_name": "ButtonModel",
          "model_module_version": "1.5.0",
          "state": {
            "_dom_classes": [],
            "_model_module": "@jupyter-widgets/controls",
            "_model_module_version": "1.5.0",
            "_model_name": "ButtonModel",
            "_view_count": null,
            "_view_module": "@jupyter-widgets/controls",
            "_view_module_version": "1.5.0",
            "_view_name": "ButtonView",
            "button_style": "primary",
            "description": "カレンダー表示",
            "disabled": false,
            "icon": "",
            "layout": "IPY_MODEL_ca8d9c5c4da54ab7b2c7bc3da380ab8a",
            "style": "IPY_MODEL_4a06e3ff39424d7b9d364acfde38645b",
            "tooltip": ""
          }
        },
        "1789e1833401434c8abacdbee2daaf6a": {
          "model_module": "@jupyter-widgets/output",
          "model_name": "OutputModel",
          "model_module_version": "1.0.0",
          "state": {
            "_dom_classes": [],
            "_model_module": "@jupyter-widgets/output",
            "_model_module_version": "1.0.0",
            "_model_name": "OutputModel",
            "_view_count": null,
            "_view_module": "@jupyter-widgets/output",
            "_view_module_version": "1.0.0",
            "_view_name": "OutputView",
            "layout": "IPY_MODEL_f2c9b3f90f9045469fa1b08781d745f6",
            "msg_id": "",
            "outputs": [
              {
                "output_type": "display_data",
                "data": {
                  "text/plain": "<IPython.core.display.HTML object>",
                  "text/html": "<h4>2025年 8月のカレンダー</h4><table style='border-collapse: collapse;'><tr><th style='padding:4px; border: 1px solid #999;'>日</th><th style='padding:4px; border: 1px solid #999;'>月</th><th style='padding:4px; border: 1px solid #999;'>火</th><th style='padding:4px; border: 1px solid #999;'>水</th><th style='padding:4px; border: 1px solid #999;'>木</th><th style='padding:4px; border: 1px solid #999;'>金</th><th style='padding:4px; border: 1px solid #999;'>土</th></tr><tr><td style='padding:4px; border: 1px solid #999; text-align: center;color: #aaa;' >27</td><td style='padding:4px; border: 1px solid #999; text-align: center;color: #aaa;' >28</td><td style='padding:4px; border: 1px solid #999; text-align: center;color: #aaa;' >29</td><td style='padding:4px; border: 1px solid #999; text-align: center;color: #aaa;' >30</td><td style='padding:4px; border: 1px solid #999; text-align: center;color: #aaa;' >31</td><td style='padding:4px; border: 1px solid #999; text-align: center;' >1</td><td style='padding:4px; border: 1px solid #999; text-align: center;color: red;' >2</td></tr><tr><td style='padding:4px; border: 1px solid #999; text-align: center;color: red;' >3</td><td style='padding:4px; border: 1px solid #999; text-align: center;' >4</td><td style='padding:4px; border: 1px solid #999; text-align: center;' >5</td><td style='padding:4px; border: 1px solid #999; text-align: center;' >6</td><td style='padding:4px; border: 1px solid #999; text-align: center;' >7</td><td style='padding:4px; border: 1px solid #999; text-align: center;' >8</td><td style='padding:4px; border: 1px solid #999; text-align: center;color: red;' >9</td></tr><tr><td style='padding:4px; border: 1px solid #999; text-align: center;color: red;' >10</td><td style='padding:4px; border: 1px solid #999; text-align: center;color: red;' title='山の日'>11</td><td style='padding:4px; border: 1px solid #999; text-align: center;' >12</td><td style='padding:4px; border: 1px solid #999; text-align: center;' >13</td><td style='padding:4px; border: 1px solid #999; text-align: center;' >14</td><td style='padding:4px; border: 1px solid #999; text-align: center;' >15</td><td style='padding:4px; border: 1px solid #999; text-align: center;color: red;' >16</td></tr><tr><td style='padding:4px; border: 1px solid #999; text-align: center;color: red;' >17</td><td style='padding:4px; border: 1px solid #999; text-align: center;' >18</td><td style='padding:4px; border: 1px solid #999; text-align: center;' >19</td><td style='padding:4px; border: 1px solid #999; text-align: center;' >20</td><td style='padding:4px; border: 1px solid #999; text-align: center;' >21</td><td style='padding:4px; border: 1px solid #999; text-align: center;' >22</td><td style='padding:4px; border: 1px solid #999; text-align: center;color: red;' >23</td></tr><tr><td style='padding:4px; border: 1px solid #999; text-align: center;color: red;' >24</td><td style='padding:4px; border: 1px solid #999; text-align: center;' >25</td><td style='padding:4px; border: 1px solid #999; text-align: center;' >26</td><td style='padding:4px; border: 1px solid #999; text-align: center;' >27</td><td style='padding:4px; border: 1px solid #999; text-align: center;' >28</td><td style='padding:4px; border: 1px solid #999; text-align: center;' >29</td><td style='padding:4px; border: 1px solid #999; text-align: center;color: red;' >30</td></tr><tr><td style='padding:4px; border: 1px solid #999; text-align: center;color: red;' >31</td><td style='padding:4px; border: 1px solid #999; text-align: center;color: #aaa;' >1</td><td style='padding:4px; border: 1px solid #999; text-align: center;color: #aaa;' >2</td><td style='padding:4px; border: 1px solid #999; text-align: center;color: #aaa;' >3</td><td style='padding:4px; border: 1px solid #999; text-align: center;color: #aaa;' >4</td><td style='padding:4px; border: 1px solid #999; text-align: center;color: #aaa;' >5</td><td style='padding:4px; border: 1px solid #999; text-align: center;color: #aaa;' >6</td></tr></table>"
                },
                "metadata": {}
              }
            ]
          }
        },
        "3a582e65d75749448c8afb399bf9ef48": {
          "model_module": "@jupyter-widgets/base",
          "model_name": "LayoutModel",
          "model_module_version": "1.2.0",
          "state": {
            "_model_module": "@jupyter-widgets/base",
            "_model_module_version": "1.2.0",
            "_model_name": "LayoutModel",
            "_view_count": null,
            "_view_module": "@jupyter-widgets/base",
            "_view_module_version": "1.2.0",
            "_view_name": "LayoutView",
            "align_content": null,
            "align_items": null,
            "align_self": null,
            "border": null,
            "bottom": null,
            "display": null,
            "flex": null,
            "flex_flow": null,
            "grid_area": null,
            "grid_auto_columns": null,
            "grid_auto_flow": null,
            "grid_auto_rows": null,
            "grid_column": null,
            "grid_gap": null,
            "grid_row": null,
            "grid_template_areas": null,
            "grid_template_columns": null,
            "grid_template_rows": null,
            "height": null,
            "justify_content": null,
            "justify_items": null,
            "left": null,
            "margin": null,
            "max_height": null,
            "max_width": null,
            "min_height": null,
            "min_width": null,
            "object_fit": null,
            "object_position": null,
            "order": null,
            "overflow": null,
            "overflow_x": null,
            "overflow_y": null,
            "padding": null,
            "right": null,
            "top": null,
            "visibility": null,
            "width": null
          }
        },
        "f8b9525624254169a4d779dddecc3879": {
          "model_module": "@jupyter-widgets/base",
          "model_name": "LayoutModel",
          "model_module_version": "1.2.0",
          "state": {
            "_model_module": "@jupyter-widgets/base",
            "_model_module_version": "1.2.0",
            "_model_name": "LayoutModel",
            "_view_count": null,
            "_view_module": "@jupyter-widgets/base",
            "_view_module_version": "1.2.0",
            "_view_name": "LayoutView",
            "align_content": null,
            "align_items": null,
            "align_self": null,
            "border": null,
            "bottom": null,
            "display": null,
            "flex": null,
            "flex_flow": null,
            "grid_area": null,
            "grid_auto_columns": null,
            "grid_auto_flow": null,
            "grid_auto_rows": null,
            "grid_column": null,
            "grid_gap": null,
            "grid_row": null,
            "grid_template_areas": null,
            "grid_template_columns": null,
            "grid_template_rows": null,
            "height": null,
            "justify_content": null,
            "justify_items": null,
            "left": null,
            "margin": null,
            "max_height": null,
            "max_width": null,
            "min_height": null,
            "min_width": null,
            "object_fit": null,
            "object_position": null,
            "order": null,
            "overflow": null,
            "overflow_x": null,
            "overflow_y": null,
            "padding": null,
            "right": null,
            "top": null,
            "visibility": null,
            "width": null
          }
        },
        "30d5a09737014d6e9645dcf03544b3b2": {
          "model_module": "@jupyter-widgets/controls",
          "model_name": "DescriptionStyleModel",
          "model_module_version": "1.5.0",
          "state": {
            "_model_module": "@jupyter-widgets/controls",
            "_model_module_version": "1.5.0",
            "_model_name": "DescriptionStyleModel",
            "_view_count": null,
            "_view_module": "@jupyter-widgets/base",
            "_view_module_version": "1.2.0",
            "_view_name": "StyleView",
            "description_width": ""
          }
        },
        "c454a47931e147d3a233e1eef1b4a66c": {
          "model_module": "@jupyter-widgets/base",
          "model_name": "LayoutModel",
          "model_module_version": "1.2.0",
          "state": {
            "_model_module": "@jupyter-widgets/base",
            "_model_module_version": "1.2.0",
            "_model_name": "LayoutModel",
            "_view_count": null,
            "_view_module": "@jupyter-widgets/base",
            "_view_module_version": "1.2.0",
            "_view_name": "LayoutView",
            "align_content": null,
            "align_items": null,
            "align_self": null,
            "border": null,
            "bottom": null,
            "display": null,
            "flex": null,
            "flex_flow": null,
            "grid_area": null,
            "grid_auto_columns": null,
            "grid_auto_flow": null,
            "grid_auto_rows": null,
            "grid_column": null,
            "grid_gap": null,
            "grid_row": null,
            "grid_template_areas": null,
            "grid_template_columns": null,
            "grid_template_rows": null,
            "height": null,
            "justify_content": null,
            "justify_items": null,
            "left": null,
            "margin": null,
            "max_height": null,
            "max_width": null,
            "min_height": null,
            "min_width": null,
            "object_fit": null,
            "object_position": null,
            "order": null,
            "overflow": null,
            "overflow_x": null,
            "overflow_y": null,
            "padding": null,
            "right": null,
            "top": null,
            "visibility": null,
            "width": null
          }
        },
        "a132a6f72f134767ab378cda5fc28cc8": {
          "model_module": "@jupyter-widgets/controls",
          "model_name": "DescriptionStyleModel",
          "model_module_version": "1.5.0",
          "state": {
            "_model_module": "@jupyter-widgets/controls",
            "_model_module_version": "1.5.0",
            "_model_name": "DescriptionStyleModel",
            "_view_count": null,
            "_view_module": "@jupyter-widgets/base",
            "_view_module_version": "1.2.0",
            "_view_name": "StyleView",
            "description_width": ""
          }
        },
        "4056f072c7c34e33994cc2c72441ce6d": {
          "model_module": "@jupyter-widgets/base",
          "model_name": "LayoutModel",
          "model_module_version": "1.2.0",
          "state": {
            "_model_module": "@jupyter-widgets/base",
            "_model_module_version": "1.2.0",
            "_model_name": "LayoutModel",
            "_view_count": null,
            "_view_module": "@jupyter-widgets/base",
            "_view_module_version": "1.2.0",
            "_view_name": "LayoutView",
            "align_content": null,
            "align_items": null,
            "align_self": null,
            "border": null,
            "bottom": null,
            "display": null,
            "flex": null,
            "flex_flow": null,
            "grid_area": null,
            "grid_auto_columns": null,
            "grid_auto_flow": null,
            "grid_auto_rows": null,
            "grid_column": null,
            "grid_gap": null,
            "grid_row": null,
            "grid_template_areas": null,
            "grid_template_columns": null,
            "grid_template_rows": null,
            "height": null,
            "justify_content": null,
            "justify_items": null,
            "left": null,
            "margin": null,
            "max_height": null,
            "max_width": null,
            "min_height": null,
            "min_width": null,
            "object_fit": null,
            "object_position": null,
            "order": null,
            "overflow": null,
            "overflow_x": null,
            "overflow_y": null,
            "padding": null,
            "right": null,
            "top": null,
            "visibility": null,
            "width": null
          }
        },
        "2c05c86a947f40a3bf3fe0e4b22a454f": {
          "model_module": "@jupyter-widgets/controls",
          "model_name": "ButtonStyleModel",
          "model_module_version": "1.5.0",
          "state": {
            "_model_module": "@jupyter-widgets/controls",
            "_model_module_version": "1.5.0",
            "_model_name": "ButtonStyleModel",
            "_view_count": null,
            "_view_module": "@jupyter-widgets/base",
            "_view_module_version": "1.2.0",
            "_view_name": "StyleView",
            "button_color": null,
            "font_weight": ""
          }
        },
        "1b2ecaedfb424fc9b987f3fec3a44c05": {
          "model_module": "@jupyter-widgets/base",
          "model_name": "LayoutModel",
          "model_module_version": "1.2.0",
          "state": {
            "_model_module": "@jupyter-widgets/base",
            "_model_module_version": "1.2.0",
            "_model_name": "LayoutModel",
            "_view_count": null,
            "_view_module": "@jupyter-widgets/base",
            "_view_module_version": "1.2.0",
            "_view_name": "LayoutView",
            "align_content": null,
            "align_items": null,
            "align_self": null,
            "border": null,
            "bottom": null,
            "display": null,
            "flex": null,
            "flex_flow": null,
            "grid_area": null,
            "grid_auto_columns": null,
            "grid_auto_flow": null,
            "grid_auto_rows": null,
            "grid_column": null,
            "grid_gap": null,
            "grid_row": null,
            "grid_template_areas": null,
            "grid_template_columns": null,
            "grid_template_rows": null,
            "height": null,
            "justify_content": null,
            "justify_items": null,
            "left": null,
            "margin": null,
            "max_height": null,
            "max_width": null,
            "min_height": null,
            "min_width": null,
            "object_fit": null,
            "object_position": null,
            "order": null,
            "overflow": null,
            "overflow_x": null,
            "overflow_y": null,
            "padding": null,
            "right": null,
            "top": null,
            "visibility": null,
            "width": null
          }
        },
        "7e96fed374d0400a99b17f02781090c0": {
          "model_module": "@jupyter-widgets/controls",
          "model_name": "DescriptionStyleModel",
          "model_module_version": "1.5.0",
          "state": {
            "_model_module": "@jupyter-widgets/controls",
            "_model_module_version": "1.5.0",
            "_model_name": "DescriptionStyleModel",
            "_view_count": null,
            "_view_module": "@jupyter-widgets/base",
            "_view_module_version": "1.2.0",
            "_view_name": "StyleView",
            "description_width": ""
          }
        },
        "5bfc0597883a476da1fb3662cea7e443": {
          "model_module": "@jupyter-widgets/base",
          "model_name": "LayoutModel",
          "model_module_version": "1.2.0",
          "state": {
            "_model_module": "@jupyter-widgets/base",
            "_model_module_version": "1.2.0",
            "_model_name": "LayoutModel",
            "_view_count": null,
            "_view_module": "@jupyter-widgets/base",
            "_view_module_version": "1.2.0",
            "_view_name": "LayoutView",
            "align_content": null,
            "align_items": null,
            "align_self": null,
            "border": null,
            "bottom": null,
            "display": null,
            "flex": null,
            "flex_flow": null,
            "grid_area": null,
            "grid_auto_columns": null,
            "grid_auto_flow": null,
            "grid_auto_rows": null,
            "grid_column": null,
            "grid_gap": null,
            "grid_row": null,
            "grid_template_areas": null,
            "grid_template_columns": null,
            "grid_template_rows": null,
            "height": null,
            "justify_content": null,
            "justify_items": null,
            "left": null,
            "margin": null,
            "max_height": null,
            "max_width": null,
            "min_height": null,
            "min_width": null,
            "object_fit": null,
            "object_position": null,
            "order": null,
            "overflow": null,
            "overflow_x": null,
            "overflow_y": null,
            "padding": null,
            "right": null,
            "top": null,
            "visibility": null,
            "width": null
          }
        },
        "1ba047a588ef406b86b99a5819bac24f": {
          "model_module": "@jupyter-widgets/controls",
          "model_name": "DescriptionStyleModel",
          "model_module_version": "1.5.0",
          "state": {
            "_model_module": "@jupyter-widgets/controls",
            "_model_module_version": "1.5.0",
            "_model_name": "DescriptionStyleModel",
            "_view_count": null,
            "_view_module": "@jupyter-widgets/base",
            "_view_module_version": "1.2.0",
            "_view_name": "StyleView",
            "description_width": ""
          }
        },
        "63d63a29c9b84947832a41e73c763e65": {
          "model_module": "@jupyter-widgets/base",
          "model_name": "LayoutModel",
          "model_module_version": "1.2.0",
          "state": {
            "_model_module": "@jupyter-widgets/base",
            "_model_module_version": "1.2.0",
            "_model_name": "LayoutModel",
            "_view_count": null,
            "_view_module": "@jupyter-widgets/base",
            "_view_module_version": "1.2.0",
            "_view_name": "LayoutView",
            "align_content": null,
            "align_items": null,
            "align_self": null,
            "border": null,
            "bottom": null,
            "display": null,
            "flex": null,
            "flex_flow": null,
            "grid_area": null,
            "grid_auto_columns": null,
            "grid_auto_flow": null,
            "grid_auto_rows": null,
            "grid_column": null,
            "grid_gap": null,
            "grid_row": null,
            "grid_template_areas": null,
            "grid_template_columns": null,
            "grid_template_rows": null,
            "height": null,
            "justify_content": null,
            "justify_items": null,
            "left": null,
            "margin": null,
            "max_height": null,
            "max_width": null,
            "min_height": null,
            "min_width": null,
            "object_fit": null,
            "object_position": null,
            "order": null,
            "overflow": null,
            "overflow_x": null,
            "overflow_y": null,
            "padding": null,
            "right": null,
            "top": null,
            "visibility": null,
            "width": null
          }
        },
        "ba9da53253fa41bf95a8a36d6bd01810": {
          "model_module": "@jupyter-widgets/controls",
          "model_name": "ButtonStyleModel",
          "model_module_version": "1.5.0",
          "state": {
            "_model_module": "@jupyter-widgets/controls",
            "_model_module_version": "1.5.0",
            "_model_name": "ButtonStyleModel",
            "_view_count": null,
            "_view_module": "@jupyter-widgets/base",
            "_view_module_version": "1.2.0",
            "_view_name": "StyleView",
            "button_color": null,
            "font_weight": ""
          }
        },
        "359ca3f488874ec7ac6c5c28a06cff0a": {
          "model_module": "@jupyter-widgets/base",
          "model_name": "LayoutModel",
          "model_module_version": "1.2.0",
          "state": {
            "_model_module": "@jupyter-widgets/base",
            "_model_module_version": "1.2.0",
            "_model_name": "LayoutModel",
            "_view_count": null,
            "_view_module": "@jupyter-widgets/base",
            "_view_module_version": "1.2.0",
            "_view_name": "LayoutView",
            "align_content": null,
            "align_items": null,
            "align_self": null,
            "border": null,
            "bottom": null,
            "display": null,
            "flex": null,
            "flex_flow": null,
            "grid_area": null,
            "grid_auto_columns": null,
            "grid_auto_flow": null,
            "grid_auto_rows": null,
            "grid_column": null,
            "grid_gap": null,
            "grid_row": null,
            "grid_template_areas": null,
            "grid_template_columns": null,
            "grid_template_rows": null,
            "height": null,
            "justify_content": null,
            "justify_items": null,
            "left": null,
            "margin": null,
            "max_height": null,
            "max_width": null,
            "min_height": null,
            "min_width": null,
            "object_fit": null,
            "object_position": null,
            "order": null,
            "overflow": null,
            "overflow_x": null,
            "overflow_y": null,
            "padding": null,
            "right": null,
            "top": null,
            "visibility": null,
            "width": null
          }
        },
        "ea8e5f99748246c0bc0019129ed0e7d9": {
          "model_module": "@jupyter-widgets/controls",
          "model_name": "DescriptionStyleModel",
          "model_module_version": "1.5.0",
          "state": {
            "_model_module": "@jupyter-widgets/controls",
            "_model_module_version": "1.5.0",
            "_model_name": "DescriptionStyleModel",
            "_view_count": null,
            "_view_module": "@jupyter-widgets/base",
            "_view_module_version": "1.2.0",
            "_view_name": "StyleView",
            "description_width": ""
          }
        },
        "cdb65b902bf749b7b9fc358653383c08": {
          "model_module": "@jupyter-widgets/base",
          "model_name": "LayoutModel",
          "model_module_version": "1.2.0",
          "state": {
            "_model_module": "@jupyter-widgets/base",
            "_model_module_version": "1.2.0",
            "_model_name": "LayoutModel",
            "_view_count": null,
            "_view_module": "@jupyter-widgets/base",
            "_view_module_version": "1.2.0",
            "_view_name": "LayoutView",
            "align_content": null,
            "align_items": null,
            "align_self": null,
            "border": null,
            "bottom": null,
            "display": null,
            "flex": null,
            "flex_flow": null,
            "grid_area": null,
            "grid_auto_columns": null,
            "grid_auto_flow": null,
            "grid_auto_rows": null,
            "grid_column": null,
            "grid_gap": null,
            "grid_row": null,
            "grid_template_areas": null,
            "grid_template_columns": null,
            "grid_template_rows": null,
            "height": null,
            "justify_content": null,
            "justify_items": null,
            "left": null,
            "margin": null,
            "max_height": null,
            "max_width": null,
            "min_height": null,
            "min_width": null,
            "object_fit": null,
            "object_position": null,
            "order": null,
            "overflow": null,
            "overflow_x": null,
            "overflow_y": null,
            "padding": null,
            "right": null,
            "top": null,
            "visibility": null,
            "width": null
          }
        },
        "ab25c2032aed40988677db7ba899477a": {
          "model_module": "@jupyter-widgets/controls",
          "model_name": "DescriptionStyleModel",
          "model_module_version": "1.5.0",
          "state": {
            "_model_module": "@jupyter-widgets/controls",
            "_model_module_version": "1.5.0",
            "_model_name": "DescriptionStyleModel",
            "_view_count": null,
            "_view_module": "@jupyter-widgets/base",
            "_view_module_version": "1.2.0",
            "_view_name": "StyleView",
            "description_width": ""
          }
        },
        "c2d70d1ccfd8473a9ea851dfad20f97a": {
          "model_module": "@jupyter-widgets/base",
          "model_name": "LayoutModel",
          "model_module_version": "1.2.0",
          "state": {
            "_model_module": "@jupyter-widgets/base",
            "_model_module_version": "1.2.0",
            "_model_name": "LayoutModel",
            "_view_count": null,
            "_view_module": "@jupyter-widgets/base",
            "_view_module_version": "1.2.0",
            "_view_name": "LayoutView",
            "align_content": null,
            "align_items": null,
            "align_self": null,
            "border": null,
            "bottom": null,
            "display": null,
            "flex": null,
            "flex_flow": null,
            "grid_area": null,
            "grid_auto_columns": null,
            "grid_auto_flow": null,
            "grid_auto_rows": null,
            "grid_column": null,
            "grid_gap": null,
            "grid_row": null,
            "grid_template_areas": null,
            "grid_template_columns": null,
            "grid_template_rows": null,
            "height": null,
            "justify_content": null,
            "justify_items": null,
            "left": null,
            "margin": null,
            "max_height": null,
            "max_width": null,
            "min_height": null,
            "min_width": null,
            "object_fit": null,
            "object_position": null,
            "order": null,
            "overflow": null,
            "overflow_x": null,
            "overflow_y": null,
            "padding": null,
            "right": null,
            "top": null,
            "visibility": null,
            "width": null
          }
        },
        "3008414fed1d4c3aa2f4385366cecd02": {
          "model_module": "@jupyter-widgets/controls",
          "model_name": "ButtonStyleModel",
          "model_module_version": "1.5.0",
          "state": {
            "_model_module": "@jupyter-widgets/controls",
            "_model_module_version": "1.5.0",
            "_model_name": "ButtonStyleModel",
            "_view_count": null,
            "_view_module": "@jupyter-widgets/base",
            "_view_module_version": "1.2.0",
            "_view_name": "StyleView",
            "button_color": null,
            "font_weight": ""
          }
        },
        "0a9a17a06c834986badc43c46f7010cb": {
          "model_module": "@jupyter-widgets/base",
          "model_name": "LayoutModel",
          "model_module_version": "1.2.0",
          "state": {
            "_model_module": "@jupyter-widgets/base",
            "_model_module_version": "1.2.0",
            "_model_name": "LayoutModel",
            "_view_count": null,
            "_view_module": "@jupyter-widgets/base",
            "_view_module_version": "1.2.0",
            "_view_name": "LayoutView",
            "align_content": null,
            "align_items": null,
            "align_self": null,
            "border": null,
            "bottom": null,
            "display": null,
            "flex": null,
            "flex_flow": null,
            "grid_area": null,
            "grid_auto_columns": null,
            "grid_auto_flow": null,
            "grid_auto_rows": null,
            "grid_column": null,
            "grid_gap": null,
            "grid_row": null,
            "grid_template_areas": null,
            "grid_template_columns": null,
            "grid_template_rows": null,
            "height": null,
            "justify_content": null,
            "justify_items": null,
            "left": null,
            "margin": null,
            "max_height": null,
            "max_width": null,
            "min_height": null,
            "min_width": null,
            "object_fit": null,
            "object_position": null,
            "order": null,
            "overflow": null,
            "overflow_x": null,
            "overflow_y": null,
            "padding": null,
            "right": null,
            "top": null,
            "visibility": null,
            "width": null
          }
        },
        "b1d321db1bdf4f15bb68782711f2c14e": {
          "model_module": "@jupyter-widgets/controls",
          "model_name": "DescriptionStyleModel",
          "model_module_version": "1.5.0",
          "state": {
            "_model_module": "@jupyter-widgets/controls",
            "_model_module_version": "1.5.0",
            "_model_name": "DescriptionStyleModel",
            "_view_count": null,
            "_view_module": "@jupyter-widgets/base",
            "_view_module_version": "1.2.0",
            "_view_name": "StyleView",
            "description_width": ""
          }
        },
        "909ccdf844884c15938d05bd60ef7e9c": {
          "model_module": "@jupyter-widgets/base",
          "model_name": "LayoutModel",
          "model_module_version": "1.2.0",
          "state": {
            "_model_module": "@jupyter-widgets/base",
            "_model_module_version": "1.2.0",
            "_model_name": "LayoutModel",
            "_view_count": null,
            "_view_module": "@jupyter-widgets/base",
            "_view_module_version": "1.2.0",
            "_view_name": "LayoutView",
            "align_content": null,
            "align_items": null,
            "align_self": null,
            "border": null,
            "bottom": null,
            "display": null,
            "flex": null,
            "flex_flow": null,
            "grid_area": null,
            "grid_auto_columns": null,
            "grid_auto_flow": null,
            "grid_auto_rows": null,
            "grid_column": null,
            "grid_gap": null,
            "grid_row": null,
            "grid_template_areas": null,
            "grid_template_columns": null,
            "grid_template_rows": null,
            "height": null,
            "justify_content": null,
            "justify_items": null,
            "left": null,
            "margin": null,
            "max_height": null,
            "max_width": null,
            "min_height": null,
            "min_width": null,
            "object_fit": null,
            "object_position": null,
            "order": null,
            "overflow": null,
            "overflow_x": null,
            "overflow_y": null,
            "padding": null,
            "right": null,
            "top": null,
            "visibility": null,
            "width": null
          }
        },
        "38f774f7143f4585b307e80eb998031e": {
          "model_module": "@jupyter-widgets/controls",
          "model_name": "DescriptionStyleModel",
          "model_module_version": "1.5.0",
          "state": {
            "_model_module": "@jupyter-widgets/controls",
            "_model_module_version": "1.5.0",
            "_model_name": "DescriptionStyleModel",
            "_view_count": null,
            "_view_module": "@jupyter-widgets/base",
            "_view_module_version": "1.2.0",
            "_view_name": "StyleView",
            "description_width": ""
          }
        },
        "33e1274ca2834feb9fca873ff75daf0d": {
          "model_module": "@jupyter-widgets/base",
          "model_name": "LayoutModel",
          "model_module_version": "1.2.0",
          "state": {
            "_model_module": "@jupyter-widgets/base",
            "_model_module_version": "1.2.0",
            "_model_name": "LayoutModel",
            "_view_count": null,
            "_view_module": "@jupyter-widgets/base",
            "_view_module_version": "1.2.0",
            "_view_name": "LayoutView",
            "align_content": null,
            "align_items": null,
            "align_self": null,
            "border": null,
            "bottom": null,
            "display": null,
            "flex": null,
            "flex_flow": null,
            "grid_area": null,
            "grid_auto_columns": null,
            "grid_auto_flow": null,
            "grid_auto_rows": null,
            "grid_column": null,
            "grid_gap": null,
            "grid_row": null,
            "grid_template_areas": null,
            "grid_template_columns": null,
            "grid_template_rows": null,
            "height": null,
            "justify_content": null,
            "justify_items": null,
            "left": null,
            "margin": null,
            "max_height": null,
            "max_width": null,
            "min_height": null,
            "min_width": null,
            "object_fit": null,
            "object_position": null,
            "order": null,
            "overflow": null,
            "overflow_x": null,
            "overflow_y": null,
            "padding": null,
            "right": null,
            "top": null,
            "visibility": null,
            "width": null
          }
        },
        "faaad882093944e2afc7e73c622d3712": {
          "model_module": "@jupyter-widgets/controls",
          "model_name": "ButtonStyleModel",
          "model_module_version": "1.5.0",
          "state": {
            "_model_module": "@jupyter-widgets/controls",
            "_model_module_version": "1.5.0",
            "_model_name": "ButtonStyleModel",
            "_view_count": null,
            "_view_module": "@jupyter-widgets/base",
            "_view_module_version": "1.2.0",
            "_view_name": "StyleView",
            "button_color": null,
            "font_weight": ""
          }
        },
        "342d49d65f7d439ba571e1305c8e5a7e": {
          "model_module": "@jupyter-widgets/base",
          "model_name": "LayoutModel",
          "model_module_version": "1.2.0",
          "state": {
            "_model_module": "@jupyter-widgets/base",
            "_model_module_version": "1.2.0",
            "_model_name": "LayoutModel",
            "_view_count": null,
            "_view_module": "@jupyter-widgets/base",
            "_view_module_version": "1.2.0",
            "_view_name": "LayoutView",
            "align_content": null,
            "align_items": null,
            "align_self": null,
            "border": null,
            "bottom": null,
            "display": null,
            "flex": null,
            "flex_flow": null,
            "grid_area": null,
            "grid_auto_columns": null,
            "grid_auto_flow": null,
            "grid_auto_rows": null,
            "grid_column": null,
            "grid_gap": null,
            "grid_row": null,
            "grid_template_areas": null,
            "grid_template_columns": null,
            "grid_template_rows": null,
            "height": null,
            "justify_content": null,
            "justify_items": null,
            "left": null,
            "margin": null,
            "max_height": null,
            "max_width": null,
            "min_height": null,
            "min_width": null,
            "object_fit": null,
            "object_position": null,
            "order": null,
            "overflow": null,
            "overflow_x": null,
            "overflow_y": null,
            "padding": null,
            "right": null,
            "top": null,
            "visibility": null,
            "width": null
          }
        },
        "f2ee6fd7babe4c39a113e91b2f8c89c9": {
          "model_module": "@jupyter-widgets/controls",
          "model_name": "DescriptionStyleModel",
          "model_module_version": "1.5.0",
          "state": {
            "_model_module": "@jupyter-widgets/controls",
            "_model_module_version": "1.5.0",
            "_model_name": "DescriptionStyleModel",
            "_view_count": null,
            "_view_module": "@jupyter-widgets/base",
            "_view_module_version": "1.2.0",
            "_view_name": "StyleView",
            "description_width": ""
          }
        },
        "ac36bdced26e4c54abd630e0819d6e1f": {
          "model_module": "@jupyter-widgets/base",
          "model_name": "LayoutModel",
          "model_module_version": "1.2.0",
          "state": {
            "_model_module": "@jupyter-widgets/base",
            "_model_module_version": "1.2.0",
            "_model_name": "LayoutModel",
            "_view_count": null,
            "_view_module": "@jupyter-widgets/base",
            "_view_module_version": "1.2.0",
            "_view_name": "LayoutView",
            "align_content": null,
            "align_items": null,
            "align_self": null,
            "border": null,
            "bottom": null,
            "display": null,
            "flex": null,
            "flex_flow": null,
            "grid_area": null,
            "grid_auto_columns": null,
            "grid_auto_flow": null,
            "grid_auto_rows": null,
            "grid_column": null,
            "grid_gap": null,
            "grid_row": null,
            "grid_template_areas": null,
            "grid_template_columns": null,
            "grid_template_rows": null,
            "height": null,
            "justify_content": null,
            "justify_items": null,
            "left": null,
            "margin": null,
            "max_height": null,
            "max_width": null,
            "min_height": null,
            "min_width": null,
            "object_fit": null,
            "object_position": null,
            "order": null,
            "overflow": null,
            "overflow_x": null,
            "overflow_y": null,
            "padding": null,
            "right": null,
            "top": null,
            "visibility": null,
            "width": null
          }
        },
        "27183e3a1a804ca0890a5e61b63dabdd": {
          "model_module": "@jupyter-widgets/controls",
          "model_name": "SliderStyleModel",
          "model_module_version": "1.5.0",
          "state": {
            "_model_module": "@jupyter-widgets/controls",
            "_model_module_version": "1.5.0",
            "_model_name": "SliderStyleModel",
            "_view_count": null,
            "_view_module": "@jupyter-widgets/base",
            "_view_module_version": "1.2.0",
            "_view_name": "StyleView",
            "description_width": "",
            "handle_color": null
          }
        },
        "ca8d9c5c4da54ab7b2c7bc3da380ab8a": {
          "model_module": "@jupyter-widgets/base",
          "model_name": "LayoutModel",
          "model_module_version": "1.2.0",
          "state": {
            "_model_module": "@jupyter-widgets/base",
            "_model_module_version": "1.2.0",
            "_model_name": "LayoutModel",
            "_view_count": null,
            "_view_module": "@jupyter-widgets/base",
            "_view_module_version": "1.2.0",
            "_view_name": "LayoutView",
            "align_content": null,
            "align_items": null,
            "align_self": null,
            "border": null,
            "bottom": null,
            "display": null,
            "flex": null,
            "flex_flow": null,
            "grid_area": null,
            "grid_auto_columns": null,
            "grid_auto_flow": null,
            "grid_auto_rows": null,
            "grid_column": null,
            "grid_gap": null,
            "grid_row": null,
            "grid_template_areas": null,
            "grid_template_columns": null,
            "grid_template_rows": null,
            "height": null,
            "justify_content": null,
            "justify_items": null,
            "left": null,
            "margin": null,
            "max_height": null,
            "max_width": null,
            "min_height": null,
            "min_width": null,
            "object_fit": null,
            "object_position": null,
            "order": null,
            "overflow": null,
            "overflow_x": null,
            "overflow_y": null,
            "padding": null,
            "right": null,
            "top": null,
            "visibility": null,
            "width": null
          }
        },
        "4a06e3ff39424d7b9d364acfde38645b": {
          "model_module": "@jupyter-widgets/controls",
          "model_name": "ButtonStyleModel",
          "model_module_version": "1.5.0",
          "state": {
            "_model_module": "@jupyter-widgets/controls",
            "_model_module_version": "1.5.0",
            "_model_name": "ButtonStyleModel",
            "_view_count": null,
            "_view_module": "@jupyter-widgets/base",
            "_view_module_version": "1.2.0",
            "_view_name": "StyleView",
            "button_color": null,
            "font_weight": ""
          }
        },
        "42ff1aaa8b4e493aae8c153ffbb9dabc": {
          "model_module": "@jupyter-widgets/base",
          "model_name": "LayoutModel",
          "model_module_version": "1.2.0",
          "state": {
            "_model_module": "@jupyter-widgets/base",
            "_model_module_version": "1.2.0",
            "_model_name": "LayoutModel",
            "_view_count": null,
            "_view_module": "@jupyter-widgets/base",
            "_view_module_version": "1.2.0",
            "_view_name": "LayoutView",
            "align_content": null,
            "align_items": null,
            "align_self": null,
            "border": null,
            "bottom": null,
            "display": null,
            "flex": null,
            "flex_flow": null,
            "grid_area": null,
            "grid_auto_columns": null,
            "grid_auto_flow": null,
            "grid_auto_rows": null,
            "grid_column": null,
            "grid_gap": null,
            "grid_row": null,
            "grid_template_areas": null,
            "grid_template_columns": null,
            "grid_template_rows": null,
            "height": null,
            "justify_content": null,
            "justify_items": null,
            "left": null,
            "margin": null,
            "max_height": null,
            "max_width": null,
            "min_height": null,
            "min_width": null,
            "object_fit": null,
            "object_position": null,
            "order": null,
            "overflow": null,
            "overflow_x": null,
            "overflow_y": null,
            "padding": null,
            "right": null,
            "top": null,
            "visibility": null,
            "width": null
          }
        },
        "0172a1d010c642d0bde49eb5c6763557": {
          "model_module": "@jupyter-widgets/base",
          "model_name": "LayoutModel",
          "model_module_version": "1.2.0",
          "state": {
            "_model_module": "@jupyter-widgets/base",
            "_model_module_version": "1.2.0",
            "_model_name": "LayoutModel",
            "_view_count": null,
            "_view_module": "@jupyter-widgets/base",
            "_view_module_version": "1.2.0",
            "_view_name": "LayoutView",
            "align_content": null,
            "align_items": null,
            "align_self": null,
            "border": null,
            "bottom": null,
            "display": null,
            "flex": null,
            "flex_flow": null,
            "grid_area": null,
            "grid_auto_columns": null,
            "grid_auto_flow": null,
            "grid_auto_rows": null,
            "grid_column": null,
            "grid_gap": null,
            "grid_row": null,
            "grid_template_areas": null,
            "grid_template_columns": null,
            "grid_template_rows": null,
            "height": null,
            "justify_content": null,
            "justify_items": null,
            "left": null,
            "margin": null,
            "max_height": null,
            "max_width": null,
            "min_height": null,
            "min_width": null,
            "object_fit": null,
            "object_position": null,
            "order": null,
            "overflow": null,
            "overflow_x": null,
            "overflow_y": null,
            "padding": null,
            "right": null,
            "top": null,
            "visibility": null,
            "width": null
          }
        },
        "7561045fec784a2482e539e7e6fe5f6e": {
          "model_module": "@jupyter-widgets/base",
          "model_name": "LayoutModel",
          "model_module_version": "1.2.0",
          "state": {
            "_model_module": "@jupyter-widgets/base",
            "_model_module_version": "1.2.0",
            "_model_name": "LayoutModel",
            "_view_count": null,
            "_view_module": "@jupyter-widgets/base",
            "_view_module_version": "1.2.0",
            "_view_name": "LayoutView",
            "align_content": null,
            "align_items": null,
            "align_self": null,
            "border": null,
            "bottom": null,
            "display": null,
            "flex": null,
            "flex_flow": null,
            "grid_area": null,
            "grid_auto_columns": null,
            "grid_auto_flow": null,
            "grid_auto_rows": null,
            "grid_column": null,
            "grid_gap": null,
            "grid_row": null,
            "grid_template_areas": null,
            "grid_template_columns": null,
            "grid_template_rows": null,
            "height": null,
            "justify_content": null,
            "justify_items": null,
            "left": null,
            "margin": null,
            "max_height": null,
            "max_width": null,
            "min_height": null,
            "min_width": null,
            "object_fit": null,
            "object_position": null,
            "order": null,
            "overflow": null,
            "overflow_x": null,
            "overflow_y": null,
            "padding": null,
            "right": null,
            "top": null,
            "visibility": null,
            "width": null
          }
        },
        "bacefa3dd2944919aee9ae5c06cb6b81": {
          "model_module": "@jupyter-widgets/base",
          "model_name": "LayoutModel",
          "model_module_version": "1.2.0",
          "state": {
            "_model_module": "@jupyter-widgets/base",
            "_model_module_version": "1.2.0",
            "_model_name": "LayoutModel",
            "_view_count": null,
            "_view_module": "@jupyter-widgets/base",
            "_view_module_version": "1.2.0",
            "_view_name": "LayoutView",
            "align_content": null,
            "align_items": null,
            "align_self": null,
            "border": null,
            "bottom": null,
            "display": null,
            "flex": null,
            "flex_flow": null,
            "grid_area": null,
            "grid_auto_columns": null,
            "grid_auto_flow": null,
            "grid_auto_rows": null,
            "grid_column": null,
            "grid_gap": null,
            "grid_row": null,
            "grid_template_areas": null,
            "grid_template_columns": null,
            "grid_template_rows": null,
            "height": null,
            "justify_content": null,
            "justify_items": null,
            "left": null,
            "margin": null,
            "max_height": null,
            "max_width": null,
            "min_height": null,
            "min_width": null,
            "object_fit": null,
            "object_position": null,
            "order": null,
            "overflow": null,
            "overflow_x": null,
            "overflow_y": null,
            "padding": null,
            "right": null,
            "top": null,
            "visibility": null,
            "width": null
          }
        },
        "f2c9b3f90f9045469fa1b08781d745f6": {
          "model_module": "@jupyter-widgets/base",
          "model_name": "LayoutModel",
          "model_module_version": "1.2.0",
          "state": {
            "_model_module": "@jupyter-widgets/base",
            "_model_module_version": "1.2.0",
            "_model_name": "LayoutModel",
            "_view_count": null,
            "_view_module": "@jupyter-widgets/base",
            "_view_module_version": "1.2.0",
            "_view_name": "LayoutView",
            "align_content": null,
            "align_items": null,
            "align_self": null,
            "border": null,
            "bottom": null,
            "display": null,
            "flex": null,
            "flex_flow": null,
            "grid_area": null,
            "grid_auto_columns": null,
            "grid_auto_flow": null,
            "grid_auto_rows": null,
            "grid_column": null,
            "grid_gap": null,
            "grid_row": null,
            "grid_template_areas": null,
            "grid_template_columns": null,
            "grid_template_rows": null,
            "height": null,
            "justify_content": null,
            "justify_items": null,
            "left": null,
            "margin": null,
            "max_height": null,
            "max_width": null,
            "min_height": null,
            "min_width": null,
            "object_fit": null,
            "object_position": null,
            "order": null,
            "overflow": null,
            "overflow_x": null,
            "overflow_y": null,
            "padding": null,
            "right": null,
            "top": null,
            "visibility": null,
            "width": null
          }
        },
        "2c3bc1d1db854abd86f0c74560ac2deb": {
          "model_module": "@jupyter-widgets/controls",
          "model_name": "VBoxModel",
          "model_module_version": "1.5.0",
          "state": {
            "_dom_classes": [],
            "_model_module": "@jupyter-widgets/controls",
            "_model_module_version": "1.5.0",
            "_model_name": "VBoxModel",
            "_view_count": null,
            "_view_module": "@jupyter-widgets/controls",
            "_view_module_version": "1.5.0",
            "_view_name": "VBoxView",
            "box_style": "",
            "children": [
              "IPY_MODEL_0663b778bf8242908463d1083a41e934",
              "IPY_MODEL_1dc9c207f9d240528de649f8abe68261",
              "IPY_MODEL_c9c8cee12a344983ae56fe86b1682379",
              "IPY_MODEL_2e8104fcc51d44b09cf82127af244903",
              "IPY_MODEL_cf96b2c21c3d4ba0b1b071f6f3902373",
              "IPY_MODEL_a83c9f590cb24d98bd6eaf833943b92b"
            ],
            "layout": "IPY_MODEL_6463053bbce64821aeeea3dd956a2824"
          }
        },
        "0663b778bf8242908463d1083a41e934": {
          "model_module": "@jupyter-widgets/controls",
          "model_name": "HTMLModel",
          "model_module_version": "1.5.0",
          "state": {
            "_dom_classes": [],
            "_model_module": "@jupyter-widgets/controls",
            "_model_module_version": "1.5.0",
            "_model_name": "HTMLModel",
            "_view_count": null,
            "_view_module": "@jupyter-widgets/controls",
            "_view_module_version": "1.5.0",
            "_view_name": "HTMLView",
            "description": "",
            "description_tooltip": null,
            "layout": "IPY_MODEL_b4e1232a71944f66b75e190e4321ee12",
            "placeholder": "​",
            "style": "IPY_MODEL_30ed2bb5f96740b892867c97fca49c83",
            "value": "<h3>📅 複数月カレンダー表示</h3>"
          }
        },
        "1dc9c207f9d240528de649f8abe68261": {
          "model_module": "@jupyter-widgets/controls",
          "model_name": "IntTextModel",
          "model_module_version": "1.5.0",
          "state": {
            "_dom_classes": [],
            "_model_module": "@jupyter-widgets/controls",
            "_model_module_version": "1.5.0",
            "_model_name": "IntTextModel",
            "_view_count": null,
            "_view_module": "@jupyter-widgets/controls",
            "_view_module_version": "1.5.0",
            "_view_name": "IntTextView",
            "continuous_update": false,
            "description": "年:",
            "description_tooltip": null,
            "disabled": false,
            "layout": "IPY_MODEL_7537f960182347b7a6a1fb9fecc8f482",
            "step": 1,
            "style": "IPY_MODEL_a99a7ecea63247739c4aa48418e77eec",
            "value": 2025
          }
        },
        "c9c8cee12a344983ae56fe86b1682379": {
          "model_module": "@jupyter-widgets/controls",
          "model_name": "IntSliderModel",
          "model_module_version": "1.5.0",
          "state": {
            "_dom_classes": [],
            "_model_module": "@jupyter-widgets/controls",
            "_model_module_version": "1.5.0",
            "_model_name": "IntSliderModel",
            "_view_count": null,
            "_view_module": "@jupyter-widgets/controls",
            "_view_module_version": "1.5.0",
            "_view_name": "IntSliderView",
            "continuous_update": true,
            "description": "開始月:",
            "description_tooltip": null,
            "disabled": false,
            "layout": "IPY_MODEL_187d6a5bce5f42998221e702301ae230",
            "max": 12,
            "min": 1,
            "orientation": "horizontal",
            "readout": true,
            "readout_format": "d",
            "step": 1,
            "style": "IPY_MODEL_87e6745d987749e9918fc32e2552412d",
            "value": 4
          }
        },
        "2e8104fcc51d44b09cf82127af244903": {
          "model_module": "@jupyter-widgets/controls",
          "model_name": "IntSliderModel",
          "model_module_version": "1.5.0",
          "state": {
            "_dom_classes": [],
            "_model_module": "@jupyter-widgets/controls",
            "_model_module_version": "1.5.0",
            "_model_name": "IntSliderModel",
            "_view_count": null,
            "_view_module": "@jupyter-widgets/controls",
            "_view_module_version": "1.5.0",
            "_view_name": "IntSliderView",
            "continuous_update": true,
            "description": "表示月数:",
            "description_tooltip": null,
            "disabled": false,
            "layout": "IPY_MODEL_1163733d77b6400b9749c6fb9d172d11",
            "max": 12,
            "min": 1,
            "orientation": "horizontal",
            "readout": true,
            "readout_format": "d",
            "step": 1,
            "style": "IPY_MODEL_b52343a1c6f14f22b2a24470300e2f1c",
            "value": 3
          }
        },
        "cf96b2c21c3d4ba0b1b071f6f3902373": {
          "model_module": "@jupyter-widgets/controls",
          "model_name": "ButtonModel",
          "model_module_version": "1.5.0",
          "state": {
            "_dom_classes": [],
            "_model_module": "@jupyter-widgets/controls",
            "_model_module_version": "1.5.0",
            "_model_name": "ButtonModel",
            "_view_count": null,
            "_view_module": "@jupyter-widgets/controls",
            "_view_module_version": "1.5.0",
            "_view_name": "ButtonView",
            "button_style": "primary",
            "description": "表示する",
            "disabled": false,
            "icon": "",
            "layout": "IPY_MODEL_ffb8ac11ec2e4c81bd7678f8afb9af84",
            "style": "IPY_MODEL_50cb0302a14e491c9d6502fa38f7dae9",
            "tooltip": ""
          }
        },
        "a83c9f590cb24d98bd6eaf833943b92b": {
          "model_module": "@jupyter-widgets/output",
          "model_name": "OutputModel",
          "model_module_version": "1.0.0",
          "state": {
            "_dom_classes": [],
            "_model_module": "@jupyter-widgets/output",
            "_model_module_version": "1.0.0",
            "_model_name": "OutputModel",
            "_view_count": null,
            "_view_module": "@jupyter-widgets/output",
            "_view_module_version": "1.0.0",
            "_view_name": "OutputView",
            "layout": "IPY_MODEL_2669340315a3454a9741eb5662bf02bc",
            "msg_id": "",
            "outputs": [
              {
                "output_type": "display_data",
                "data": {
                  "text/plain": "<IPython.core.display.HTML object>",
                  "text/html": "<h4>2025年 4月</h4><table style='border-collapse: collapse; margin-bottom: 20px;'><tr><th style='padding:4px; border: 1px solid #999;'>日</th><th style='padding:4px; border: 1px solid #999;'>月</th><th style='padding:4px; border: 1px solid #999;'>火</th><th style='padding:4px; border: 1px solid #999;'>水</th><th style='padding:4px; border: 1px solid #999;'>木</th><th style='padding:4px; border: 1px solid #999;'>金</th><th style='padding:4px; border: 1px solid #999;'>土</th></tr><tr><td style='padding:4px; border: 1px solid #999; text-align: center;color: #aaa;' >30</td><td style='padding:4px; border: 1px solid #999; text-align: center;color: #aaa;' >31</td><td style='padding:4px; border: 1px solid #999; text-align: center;' >1</td><td style='padding:4px; border: 1px solid #999; text-align: center;' >2</td><td style='padding:4px; border: 1px solid #999; text-align: center;' >3</td><td style='padding:4px; border: 1px solid #999; text-align: center;' >4</td><td style='padding:4px; border: 1px solid #999; text-align: center;color: red;' >5</td></tr><tr><td style='padding:4px; border: 1px solid #999; text-align: center;color: red;' >6</td><td style='padding:4px; border: 1px solid #999; text-align: center;' >7</td><td style='padding:4px; border: 1px solid #999; text-align: center;' >8</td><td style='padding:4px; border: 1px solid #999; text-align: center;' >9</td><td style='padding:4px; border: 1px solid #999; text-align: center;' >10</td><td style='padding:4px; border: 1px solid #999; text-align: center;' >11</td><td style='padding:4px; border: 1px solid #999; text-align: center;color: red;' >12</td></tr><tr><td style='padding:4px; border: 1px solid #999; text-align: center;background-color: #ffeb3b;' >13</td><td style='padding:4px; border: 1px solid #999; text-align: center;' >14</td><td style='padding:4px; border: 1px solid #999; text-align: center;' >15</td><td style='padding:4px; border: 1px solid #999; text-align: center;' >16</td><td style='padding:4px; border: 1px solid #999; text-align: center;' >17</td><td style='padding:4px; border: 1px solid #999; text-align: center;' >18</td><td style='padding:4px; border: 1px solid #999; text-align: center;color: red;' >19</td></tr><tr><td style='padding:4px; border: 1px solid #999; text-align: center;color: red;' >20</td><td style='padding:4px; border: 1px solid #999; text-align: center;' >21</td><td style='padding:4px; border: 1px solid #999; text-align: center;' >22</td><td style='padding:4px; border: 1px solid #999; text-align: center;' >23</td><td style='padding:4px; border: 1px solid #999; text-align: center;' >24</td><td style='padding:4px; border: 1px solid #999; text-align: center;' >25</td><td style='padding:4px; border: 1px solid #999; text-align: center;color: red;' >26</td></tr><tr><td style='padding:4px; border: 1px solid #999; text-align: center;color: red;' >27</td><td style='padding:4px; border: 1px solid #999; text-align: center;' >28</td><td style='padding:4px; border: 1px solid #999; text-align: center;color: red;' title='昭和の日'>29</td><td style='padding:4px; border: 1px solid #999; text-align: center;' >30</td><td style='padding:4px; border: 1px solid #999; text-align: center;color: #aaa;' >1</td><td style='padding:4px; border: 1px solid #999; text-align: center;color: #aaa;' >2</td><td style='padding:4px; border: 1px solid #999; text-align: center;color: #aaa;' title='憲法記念日'>3</td></tr></table><h4>2025年 5月</h4><table style='border-collapse: collapse; margin-bottom: 20px;'><tr><th style='padding:4px; border: 1px solid #999;'>日</th><th style='padding:4px; border: 1px solid #999;'>月</th><th style='padding:4px; border: 1px solid #999;'>火</th><th style='padding:4px; border: 1px solid #999;'>水</th><th style='padding:4px; border: 1px solid #999;'>木</th><th style='padding:4px; border: 1px solid #999;'>金</th><th style='padding:4px; border: 1px solid #999;'>土</th></tr><tr><td style='padding:4px; border: 1px solid #999; text-align: center;color: #aaa;' >27</td><td style='padding:4px; border: 1px solid #999; text-align: center;color: #aaa;' >28</td><td style='padding:4px; border: 1px solid #999; text-align: center;color: #aaa;' title='昭和の日'>29</td><td style='padding:4px; border: 1px solid #999; text-align: center;color: #aaa;' >30</td><td style='padding:4px; border: 1px solid #999; text-align: center;' >1</td><td style='padding:4px; border: 1px solid #999; text-align: center;' >2</td><td style='padding:4px; border: 1px solid #999; text-align: center;color: red;' title='憲法記念日'>3</td></tr><tr><td style='padding:4px; border: 1px solid #999; text-align: center;color: red;' title='みどりの日'>4</td><td style='padding:4px; border: 1px solid #999; text-align: center;color: red;' title='こどもの日'>5</td><td style='padding:4px; border: 1px solid #999; text-align: center;color: red;' title='みどりの日 振替休日'>6</td><td style='padding:4px; border: 1px solid #999; text-align: center;' >7</td><td style='padding:4px; border: 1px solid #999; text-align: center;' >8</td><td style='padding:4px; border: 1px solid #999; text-align: center;' >9</td><td style='padding:4px; border: 1px solid #999; text-align: center;color: red;' >10</td></tr><tr><td style='padding:4px; border: 1px solid #999; text-align: center;color: red;' >11</td><td style='padding:4px; border: 1px solid #999; text-align: center;' >12</td><td style='padding:4px; border: 1px solid #999; text-align: center;' >13</td><td style='padding:4px; border: 1px solid #999; text-align: center;' >14</td><td style='padding:4px; border: 1px solid #999; text-align: center;' >15</td><td style='padding:4px; border: 1px solid #999; text-align: center;' >16</td><td style='padding:4px; border: 1px solid #999; text-align: center;color: red;' >17</td></tr><tr><td style='padding:4px; border: 1px solid #999; text-align: center;color: red;' >18</td><td style='padding:4px; border: 1px solid #999; text-align: center;' >19</td><td style='padding:4px; border: 1px solid #999; text-align: center;' >20</td><td style='padding:4px; border: 1px solid #999; text-align: center;' >21</td><td style='padding:4px; border: 1px solid #999; text-align: center;' >22</td><td style='padding:4px; border: 1px solid #999; text-align: center;' >23</td><td style='padding:4px; border: 1px solid #999; text-align: center;color: red;' >24</td></tr><tr><td style='padding:4px; border: 1px solid #999; text-align: center;color: red;' >25</td><td style='padding:4px; border: 1px solid #999; text-align: center;' >26</td><td style='padding:4px; border: 1px solid #999; text-align: center;' >27</td><td style='padding:4px; border: 1px solid #999; text-align: center;' >28</td><td style='padding:4px; border: 1px solid #999; text-align: center;' >29</td><td style='padding:4px; border: 1px solid #999; text-align: center;' >30</td><td style='padding:4px; border: 1px solid #999; text-align: center;color: red;' >31</td></tr></table><h4>2025年 6月</h4><table style='border-collapse: collapse; margin-bottom: 20px;'><tr><th style='padding:4px; border: 1px solid #999;'>日</th><th style='padding:4px; border: 1px solid #999;'>月</th><th style='padding:4px; border: 1px solid #999;'>火</th><th style='padding:4px; border: 1px solid #999;'>水</th><th style='padding:4px; border: 1px solid #999;'>木</th><th style='padding:4px; border: 1px solid #999;'>金</th><th style='padding:4px; border: 1px solid #999;'>土</th></tr><tr><td style='padding:4px; border: 1px solid #999; text-align: center;color: red;' >1</td><td style='padding:4px; border: 1px solid #999; text-align: center;' >2</td><td style='padding:4px; border: 1px solid #999; text-align: center;' >3</td><td style='padding:4px; border: 1px solid #999; text-align: center;' >4</td><td style='padding:4px; border: 1px solid #999; text-align: center;' >5</td><td style='padding:4px; border: 1px solid #999; text-align: center;' >6</td><td style='padding:4px; border: 1px solid #999; text-align: center;color: red;' >7</td></tr><tr><td style='padding:4px; border: 1px solid #999; text-align: center;color: red;' >8</td><td style='padding:4px; border: 1px solid #999; text-align: center;' >9</td><td style='padding:4px; border: 1px solid #999; text-align: center;' >10</td><td style='padding:4px; border: 1px solid #999; text-align: center;' >11</td><td style='padding:4px; border: 1px solid #999; text-align: center;' >12</td><td style='padding:4px; border: 1px solid #999; text-align: center;' >13</td><td style='padding:4px; border: 1px solid #999; text-align: center;color: red;' >14</td></tr><tr><td style='padding:4px; border: 1px solid #999; text-align: center;color: red;' >15</td><td style='padding:4px; border: 1px solid #999; text-align: center;' >16</td><td style='padding:4px; border: 1px solid #999; text-align: center;' >17</td><td style='padding:4px; border: 1px solid #999; text-align: center;' >18</td><td style='padding:4px; border: 1px solid #999; text-align: center;' >19</td><td style='padding:4px; border: 1px solid #999; text-align: center;' >20</td><td style='padding:4px; border: 1px solid #999; text-align: center;color: red;' >21</td></tr><tr><td style='padding:4px; border: 1px solid #999; text-align: center;color: red;' >22</td><td style='padding:4px; border: 1px solid #999; text-align: center;' >23</td><td style='padding:4px; border: 1px solid #999; text-align: center;' >24</td><td style='padding:4px; border: 1px solid #999; text-align: center;' >25</td><td style='padding:4px; border: 1px solid #999; text-align: center;' >26</td><td style='padding:4px; border: 1px solid #999; text-align: center;' >27</td><td style='padding:4px; border: 1px solid #999; text-align: center;color: red;' >28</td></tr><tr><td style='padding:4px; border: 1px solid #999; text-align: center;color: red;' >29</td><td style='padding:4px; border: 1px solid #999; text-align: center;' >30</td><td style='padding:4px; border: 1px solid #999; text-align: center;color: #aaa;' >1</td><td style='padding:4px; border: 1px solid #999; text-align: center;color: #aaa;' >2</td><td style='padding:4px; border: 1px solid #999; text-align: center;color: #aaa;' >3</td><td style='padding:4px; border: 1px solid #999; text-align: center;color: #aaa;' >4</td><td style='padding:4px; border: 1px solid #999; text-align: center;color: #aaa;' >5</td></tr></table>"
                },
                "metadata": {}
              }
            ]
          }
        },
        "6463053bbce64821aeeea3dd956a2824": {
          "model_module": "@jupyter-widgets/base",
          "model_name": "LayoutModel",
          "model_module_version": "1.2.0",
          "state": {
            "_model_module": "@jupyter-widgets/base",
            "_model_module_version": "1.2.0",
            "_model_name": "LayoutModel",
            "_view_count": null,
            "_view_module": "@jupyter-widgets/base",
            "_view_module_version": "1.2.0",
            "_view_name": "LayoutView",
            "align_content": null,
            "align_items": null,
            "align_self": null,
            "border": null,
            "bottom": null,
            "display": null,
            "flex": null,
            "flex_flow": null,
            "grid_area": null,
            "grid_auto_columns": null,
            "grid_auto_flow": null,
            "grid_auto_rows": null,
            "grid_column": null,
            "grid_gap": null,
            "grid_row": null,
            "grid_template_areas": null,
            "grid_template_columns": null,
            "grid_template_rows": null,
            "height": null,
            "justify_content": null,
            "justify_items": null,
            "left": null,
            "margin": null,
            "max_height": null,
            "max_width": null,
            "min_height": null,
            "min_width": null,
            "object_fit": null,
            "object_position": null,
            "order": null,
            "overflow": null,
            "overflow_x": null,
            "overflow_y": null,
            "padding": null,
            "right": null,
            "top": null,
            "visibility": null,
            "width": null
          }
        },
        "b4e1232a71944f66b75e190e4321ee12": {
          "model_module": "@jupyter-widgets/base",
          "model_name": "LayoutModel",
          "model_module_version": "1.2.0",
          "state": {
            "_model_module": "@jupyter-widgets/base",
            "_model_module_version": "1.2.0",
            "_model_name": "LayoutModel",
            "_view_count": null,
            "_view_module": "@jupyter-widgets/base",
            "_view_module_version": "1.2.0",
            "_view_name": "LayoutView",
            "align_content": null,
            "align_items": null,
            "align_self": null,
            "border": null,
            "bottom": null,
            "display": null,
            "flex": null,
            "flex_flow": null,
            "grid_area": null,
            "grid_auto_columns": null,
            "grid_auto_flow": null,
            "grid_auto_rows": null,
            "grid_column": null,
            "grid_gap": null,
            "grid_row": null,
            "grid_template_areas": null,
            "grid_template_columns": null,
            "grid_template_rows": null,
            "height": null,
            "justify_content": null,
            "justify_items": null,
            "left": null,
            "margin": null,
            "max_height": null,
            "max_width": null,
            "min_height": null,
            "min_width": null,
            "object_fit": null,
            "object_position": null,
            "order": null,
            "overflow": null,
            "overflow_x": null,
            "overflow_y": null,
            "padding": null,
            "right": null,
            "top": null,
            "visibility": null,
            "width": null
          }
        },
        "30ed2bb5f96740b892867c97fca49c83": {
          "model_module": "@jupyter-widgets/controls",
          "model_name": "DescriptionStyleModel",
          "model_module_version": "1.5.0",
          "state": {
            "_model_module": "@jupyter-widgets/controls",
            "_model_module_version": "1.5.0",
            "_model_name": "DescriptionStyleModel",
            "_view_count": null,
            "_view_module": "@jupyter-widgets/base",
            "_view_module_version": "1.2.0",
            "_view_name": "StyleView",
            "description_width": ""
          }
        },
        "7537f960182347b7a6a1fb9fecc8f482": {
          "model_module": "@jupyter-widgets/base",
          "model_name": "LayoutModel",
          "model_module_version": "1.2.0",
          "state": {
            "_model_module": "@jupyter-widgets/base",
            "_model_module_version": "1.2.0",
            "_model_name": "LayoutModel",
            "_view_count": null,
            "_view_module": "@jupyter-widgets/base",
            "_view_module_version": "1.2.0",
            "_view_name": "LayoutView",
            "align_content": null,
            "align_items": null,
            "align_self": null,
            "border": null,
            "bottom": null,
            "display": null,
            "flex": null,
            "flex_flow": null,
            "grid_area": null,
            "grid_auto_columns": null,
            "grid_auto_flow": null,
            "grid_auto_rows": null,
            "grid_column": null,
            "grid_gap": null,
            "grid_row": null,
            "grid_template_areas": null,
            "grid_template_columns": null,
            "grid_template_rows": null,
            "height": null,
            "justify_content": null,
            "justify_items": null,
            "left": null,
            "margin": null,
            "max_height": null,
            "max_width": null,
            "min_height": null,
            "min_width": null,
            "object_fit": null,
            "object_position": null,
            "order": null,
            "overflow": null,
            "overflow_x": null,
            "overflow_y": null,
            "padding": null,
            "right": null,
            "top": null,
            "visibility": null,
            "width": null
          }
        },
        "a99a7ecea63247739c4aa48418e77eec": {
          "model_module": "@jupyter-widgets/controls",
          "model_name": "DescriptionStyleModel",
          "model_module_version": "1.5.0",
          "state": {
            "_model_module": "@jupyter-widgets/controls",
            "_model_module_version": "1.5.0",
            "_model_name": "DescriptionStyleModel",
            "_view_count": null,
            "_view_module": "@jupyter-widgets/base",
            "_view_module_version": "1.2.0",
            "_view_name": "StyleView",
            "description_width": ""
          }
        },
        "187d6a5bce5f42998221e702301ae230": {
          "model_module": "@jupyter-widgets/base",
          "model_name": "LayoutModel",
          "model_module_version": "1.2.0",
          "state": {
            "_model_module": "@jupyter-widgets/base",
            "_model_module_version": "1.2.0",
            "_model_name": "LayoutModel",
            "_view_count": null,
            "_view_module": "@jupyter-widgets/base",
            "_view_module_version": "1.2.0",
            "_view_name": "LayoutView",
            "align_content": null,
            "align_items": null,
            "align_self": null,
            "border": null,
            "bottom": null,
            "display": null,
            "flex": null,
            "flex_flow": null,
            "grid_area": null,
            "grid_auto_columns": null,
            "grid_auto_flow": null,
            "grid_auto_rows": null,
            "grid_column": null,
            "grid_gap": null,
            "grid_row": null,
            "grid_template_areas": null,
            "grid_template_columns": null,
            "grid_template_rows": null,
            "height": null,
            "justify_content": null,
            "justify_items": null,
            "left": null,
            "margin": null,
            "max_height": null,
            "max_width": null,
            "min_height": null,
            "min_width": null,
            "object_fit": null,
            "object_position": null,
            "order": null,
            "overflow": null,
            "overflow_x": null,
            "overflow_y": null,
            "padding": null,
            "right": null,
            "top": null,
            "visibility": null,
            "width": null
          }
        },
        "87e6745d987749e9918fc32e2552412d": {
          "model_module": "@jupyter-widgets/controls",
          "model_name": "SliderStyleModel",
          "model_module_version": "1.5.0",
          "state": {
            "_model_module": "@jupyter-widgets/controls",
            "_model_module_version": "1.5.0",
            "_model_name": "SliderStyleModel",
            "_view_count": null,
            "_view_module": "@jupyter-widgets/base",
            "_view_module_version": "1.2.0",
            "_view_name": "StyleView",
            "description_width": "",
            "handle_color": null
          }
        },
        "1163733d77b6400b9749c6fb9d172d11": {
          "model_module": "@jupyter-widgets/base",
          "model_name": "LayoutModel",
          "model_module_version": "1.2.0",
          "state": {
            "_model_module": "@jupyter-widgets/base",
            "_model_module_version": "1.2.0",
            "_model_name": "LayoutModel",
            "_view_count": null,
            "_view_module": "@jupyter-widgets/base",
            "_view_module_version": "1.2.0",
            "_view_name": "LayoutView",
            "align_content": null,
            "align_items": null,
            "align_self": null,
            "border": null,
            "bottom": null,
            "display": null,
            "flex": null,
            "flex_flow": null,
            "grid_area": null,
            "grid_auto_columns": null,
            "grid_auto_flow": null,
            "grid_auto_rows": null,
            "grid_column": null,
            "grid_gap": null,
            "grid_row": null,
            "grid_template_areas": null,
            "grid_template_columns": null,
            "grid_template_rows": null,
            "height": null,
            "justify_content": null,
            "justify_items": null,
            "left": null,
            "margin": null,
            "max_height": null,
            "max_width": null,
            "min_height": null,
            "min_width": null,
            "object_fit": null,
            "object_position": null,
            "order": null,
            "overflow": null,
            "overflow_x": null,
            "overflow_y": null,
            "padding": null,
            "right": null,
            "top": null,
            "visibility": null,
            "width": null
          }
        },
        "b52343a1c6f14f22b2a24470300e2f1c": {
          "model_module": "@jupyter-widgets/controls",
          "model_name": "SliderStyleModel",
          "model_module_version": "1.5.0",
          "state": {
            "_model_module": "@jupyter-widgets/controls",
            "_model_module_version": "1.5.0",
            "_model_name": "SliderStyleModel",
            "_view_count": null,
            "_view_module": "@jupyter-widgets/base",
            "_view_module_version": "1.2.0",
            "_view_name": "StyleView",
            "description_width": "",
            "handle_color": null
          }
        },
        "ffb8ac11ec2e4c81bd7678f8afb9af84": {
          "model_module": "@jupyter-widgets/base",
          "model_name": "LayoutModel",
          "model_module_version": "1.2.0",
          "state": {
            "_model_module": "@jupyter-widgets/base",
            "_model_module_version": "1.2.0",
            "_model_name": "LayoutModel",
            "_view_count": null,
            "_view_module": "@jupyter-widgets/base",
            "_view_module_version": "1.2.0",
            "_view_name": "LayoutView",
            "align_content": null,
            "align_items": null,
            "align_self": null,
            "border": null,
            "bottom": null,
            "display": null,
            "flex": null,
            "flex_flow": null,
            "grid_area": null,
            "grid_auto_columns": null,
            "grid_auto_flow": null,
            "grid_auto_rows": null,
            "grid_column": null,
            "grid_gap": null,
            "grid_row": null,
            "grid_template_areas": null,
            "grid_template_columns": null,
            "grid_template_rows": null,
            "height": null,
            "justify_content": null,
            "justify_items": null,
            "left": null,
            "margin": null,
            "max_height": null,
            "max_width": null,
            "min_height": null,
            "min_width": null,
            "object_fit": null,
            "object_position": null,
            "order": null,
            "overflow": null,
            "overflow_x": null,
            "overflow_y": null,
            "padding": null,
            "right": null,
            "top": null,
            "visibility": null,
            "width": null
          }
        },
        "50cb0302a14e491c9d6502fa38f7dae9": {
          "model_module": "@jupyter-widgets/controls",
          "model_name": "ButtonStyleModel",
          "model_module_version": "1.5.0",
          "state": {
            "_model_module": "@jupyter-widgets/controls",
            "_model_module_version": "1.5.0",
            "_model_name": "ButtonStyleModel",
            "_view_count": null,
            "_view_module": "@jupyter-widgets/base",
            "_view_module_version": "1.2.0",
            "_view_name": "StyleView",
            "button_color": null,
            "font_weight": ""
          }
        },
        "2669340315a3454a9741eb5662bf02bc": {
          "model_module": "@jupyter-widgets/base",
          "model_name": "LayoutModel",
          "model_module_version": "1.2.0",
          "state": {
            "_model_module": "@jupyter-widgets/base",
            "_model_module_version": "1.2.0",
            "_model_name": "LayoutModel",
            "_view_count": null,
            "_view_module": "@jupyter-widgets/base",
            "_view_module_version": "1.2.0",
            "_view_name": "LayoutView",
            "align_content": null,
            "align_items": null,
            "align_self": null,
            "border": null,
            "bottom": null,
            "display": null,
            "flex": null,
            "flex_flow": null,
            "grid_area": null,
            "grid_auto_columns": null,
            "grid_auto_flow": null,
            "grid_auto_rows": null,
            "grid_column": null,
            "grid_gap": null,
            "grid_row": null,
            "grid_template_areas": null,
            "grid_template_columns": null,
            "grid_template_rows": null,
            "height": null,
            "justify_content": null,
            "justify_items": null,
            "left": null,
            "margin": null,
            "max_height": null,
            "max_width": null,
            "min_height": null,
            "min_width": null,
            "object_fit": null,
            "object_position": null,
            "order": null,
            "overflow": null,
            "overflow_x": null,
            "overflow_y": null,
            "padding": null,
            "right": null,
            "top": null,
            "visibility": null,
            "width": null
          }
        },
        "a9da367febd542829235ef05067f25de": {
          "model_module": "@jupyter-widgets/controls",
          "model_name": "VBoxModel",
          "model_module_version": "1.5.0",
          "state": {
            "_dom_classes": [],
            "_model_module": "@jupyter-widgets/controls",
            "_model_module_version": "1.5.0",
            "_model_name": "VBoxModel",
            "_view_count": null,
            "_view_module": "@jupyter-widgets/controls",
            "_view_module_version": "1.5.0",
            "_view_name": "VBoxView",
            "box_style": "",
            "children": [
              "IPY_MODEL_6f5bab60575f473ea03060125ca50dd0",
              "IPY_MODEL_7ede7a7ccff24b099d6c5bc2adc1f96d",
              "IPY_MODEL_beeb2922e958489c90784bff30d34886",
              "IPY_MODEL_d1232a51d23f4e688009c9fd509bc47a",
              "IPY_MODEL_58ee05805caf436e9fd82324585f6379",
              "IPY_MODEL_1380ccc14f924e7ca3733a690cd36f58"
            ],
            "layout": "IPY_MODEL_f4dc1e7d7f2e481590143fccb79f7f83"
          }
        },
        "6f5bab60575f473ea03060125ca50dd0": {
          "model_module": "@jupyter-widgets/controls",
          "model_name": "HTMLModel",
          "model_module_version": "1.5.0",
          "state": {
            "_dom_classes": [],
            "_model_module": "@jupyter-widgets/controls",
            "_model_module_version": "1.5.0",
            "_model_name": "HTMLModel",
            "_view_count": null,
            "_view_module": "@jupyter-widgets/controls",
            "_view_module_version": "1.5.0",
            "_view_name": "HTMLView",
            "description": "",
            "description_tooltip": null,
            "layout": "IPY_MODEL_cdc63efdc4924c6fa487b498d7d772a2",
            "placeholder": "​",
            "style": "IPY_MODEL_25977053f0e34534ab3326de80c23768",
            "value": "<h3>🖨️ カレンダーをPNG & PDFで保存</h3>"
          }
        },
        "7ede7a7ccff24b099d6c5bc2adc1f96d": {
          "model_module": "@jupyter-widgets/controls",
          "model_name": "IntTextModel",
          "model_module_version": "1.5.0",
          "state": {
            "_dom_classes": [],
            "_model_module": "@jupyter-widgets/controls",
            "_model_module_version": "1.5.0",
            "_model_name": "IntTextModel",
            "_view_count": null,
            "_view_module": "@jupyter-widgets/controls",
            "_view_module_version": "1.5.0",
            "_view_name": "IntTextView",
            "continuous_update": false,
            "description": "年:",
            "description_tooltip": null,
            "disabled": false,
            "layout": "IPY_MODEL_a51313b98d564652b761cc4efb48f8d2",
            "step": 1,
            "style": "IPY_MODEL_09368f3666714264ad5f8d4178593dfd",
            "value": 2025
          }
        },
        "beeb2922e958489c90784bff30d34886": {
          "model_module": "@jupyter-widgets/controls",
          "model_name": "IntSliderModel",
          "model_module_version": "1.5.0",
          "state": {
            "_dom_classes": [],
            "_model_module": "@jupyter-widgets/controls",
            "_model_module_version": "1.5.0",
            "_model_name": "IntSliderModel",
            "_view_count": null,
            "_view_module": "@jupyter-widgets/controls",
            "_view_module_version": "1.5.0",
            "_view_name": "IntSliderView",
            "continuous_update": true,
            "description": "開始月:",
            "description_tooltip": null,
            "disabled": false,
            "layout": "IPY_MODEL_66c36f41560943c89d0ddf613b068af5",
            "max": 12,
            "min": 1,
            "orientation": "horizontal",
            "readout": true,
            "readout_format": "d",
            "step": 1,
            "style": "IPY_MODEL_b17b85d210ad4ae6ba4bdbef27025d7c",
            "value": 4
          }
        },
        "d1232a51d23f4e688009c9fd509bc47a": {
          "model_module": "@jupyter-widgets/controls",
          "model_name": "IntSliderModel",
          "model_module_version": "1.5.0",
          "state": {
            "_dom_classes": [],
            "_model_module": "@jupyter-widgets/controls",
            "_model_module_version": "1.5.0",
            "_model_name": "IntSliderModel",
            "_view_count": null,
            "_view_module": "@jupyter-widgets/controls",
            "_view_module_version": "1.5.0",
            "_view_name": "IntSliderView",
            "continuous_update": true,
            "description": "表示月数:",
            "description_tooltip": null,
            "disabled": false,
            "layout": "IPY_MODEL_7d051f863cda48959ec1da778ff9fc6d",
            "max": 12,
            "min": 1,
            "orientation": "horizontal",
            "readout": true,
            "readout_format": "d",
            "step": 1,
            "style": "IPY_MODEL_92c03fef24d54b1a832d5e45f18e16e9",
            "value": 7
          }
        },
        "58ee05805caf436e9fd82324585f6379": {
          "model_module": "@jupyter-widgets/controls",
          "model_name": "ButtonModel",
          "model_module_version": "1.5.0",
          "state": {
            "_dom_classes": [],
            "_model_module": "@jupyter-widgets/controls",
            "_model_module_version": "1.5.0",
            "_model_name": "ButtonModel",
            "_view_count": null,
            "_view_module": "@jupyter-widgets/controls",
            "_view_module_version": "1.5.0",
            "_view_name": "ButtonView",
            "button_style": "success",
            "description": "PNG & PDF 保存",
            "disabled": false,
            "icon": "",
            "layout": "IPY_MODEL_2e389a77aba14d58a3930976d0b6eefb",
            "style": "IPY_MODEL_148651580dcc4cfe9f6925d677da25ee",
            "tooltip": ""
          }
        },
        "1380ccc14f924e7ca3733a690cd36f58": {
          "model_module": "@jupyter-widgets/output",
          "model_name": "OutputModel",
          "model_module_version": "1.0.0",
          "state": {
            "_dom_classes": [],
            "_model_module": "@jupyter-widgets/output",
            "_model_module_version": "1.0.0",
            "_model_name": "OutputModel",
            "_view_count": null,
            "_view_module": "@jupyter-widgets/output",
            "_view_module_version": "1.0.0",
            "_view_name": "OutputView",
            "layout": "IPY_MODEL_c39b0214d485463d8788448fdeeefcff",
            "msg_id": "",
            "outputs": [
              {
                "output_type": "stream",
                "name": "stderr",
                "text": [
                  "DEBUG:fontTools.ttLib.ttFont:Reading 'maxp' table from disk\n"
                ]
              },
              {
                "output_type": "stream",
                "name": "stderr",
                "text": [
                  "DEBUG:fontTools.ttLib.ttFont:Decompiling 'maxp' table\n"
                ]
              },
              {
                "output_type": "stream",
                "name": "stderr",
                "text": [
                  "DEBUG:fontTools.subset.timer:Took 0.003s to load 'maxp'\n"
                ]
              },
              {
                "output_type": "stream",
                "name": "stderr",
                "text": [
                  "DEBUG:fontTools.subset.timer:Took 0.000s to prune 'maxp'\n"
                ]
              },
              {
                "output_type": "stream",
                "name": "stderr",
                "text": [
                  "INFO:fontTools.subset:maxp pruned\n"
                ]
              },
              {
                "output_type": "stream",
                "name": "stderr",
                "text": [
                  "DEBUG:fontTools.ttLib.ttFont:Reading 'cmap' table from disk\n"
                ]
              },
              {
                "output_type": "stream",
                "name": "stderr",
                "text": [
                  "DEBUG:fontTools.ttLib.ttFont:Decompiling 'cmap' table\n"
                ]
              },
              {
                "output_type": "stream",
                "name": "stderr",
                "text": [
                  "DEBUG:fontTools.ttLib.ttFont:Reading 'post' table from disk\n"
                ]
              },
              {
                "output_type": "stream",
                "name": "stderr",
                "text": [
                  "DEBUG:fontTools.ttLib.ttFont:Decompiling 'post' table\n"
                ]
              },
              {
                "output_type": "stream",
                "name": "stderr",
                "text": [
                  "DEBUG:fontTools.subset.timer:Took 0.006s to load 'cmap'\n"
                ]
              },
              {
                "output_type": "stream",
                "name": "stderr",
                "text": [
                  "DEBUG:fontTools.subset.timer:Took 0.000s to prune 'cmap'\n"
                ]
              },
              {
                "output_type": "stream",
                "name": "stderr",
                "text": [
                  "INFO:fontTools.subset:cmap pruned\n"
                ]
              },
              {
                "output_type": "stream",
                "name": "stderr",
                "text": [
                  "INFO:fontTools.subset:fpgm dropped\n"
                ]
              },
              {
                "output_type": "stream",
                "name": "stderr",
                "text": [
                  "INFO:fontTools.subset:prep dropped\n"
                ]
              },
              {
                "output_type": "stream",
                "name": "stderr",
                "text": [
                  "INFO:fontTools.subset:cvt  dropped\n"
                ]
              },
              {
                "output_type": "stream",
                "name": "stderr",
                "text": [
                  "DEBUG:fontTools.subset.timer:Took 0.000s to load 'post'\n"
                ]
              },
              {
                "output_type": "stream",
                "name": "stderr",
                "text": [
                  "DEBUG:fontTools.subset.timer:Took 0.000s to prune 'post'\n"
                ]
              },
              {
                "output_type": "stream",
                "name": "stderr",
                "text": [
                  "INFO:fontTools.subset:post pruned\n"
                ]
              },
              {
                "output_type": "stream",
                "name": "stderr",
                "text": [
                  "DEBUG:fontTools.ttLib.ttFont:Reading 'glyf' table from disk\n"
                ]
              },
              {
                "output_type": "stream",
                "name": "stderr",
                "text": [
                  "DEBUG:fontTools.ttLib.ttFont:Decompiling 'glyf' table\n"
                ]
              },
              {
                "output_type": "stream",
                "name": "stderr",
                "text": [
                  "DEBUG:fontTools.ttLib.ttFont:Reading 'loca' table from disk\n"
                ]
              },
              {
                "output_type": "stream",
                "name": "stderr",
                "text": [
                  "DEBUG:fontTools.ttLib.ttFont:Decompiling 'loca' table\n"
                ]
              },
              {
                "output_type": "stream",
                "name": "stderr",
                "text": [
                  "DEBUG:fontTools.ttLib.ttFont:Reading 'head' table from disk\n"
                ]
              },
              {
                "output_type": "stream",
                "name": "stderr",
                "text": [
                  "DEBUG:fontTools.ttLib.ttFont:Decompiling 'head' table\n"
                ]
              },
              {
                "output_type": "stream",
                "name": "stderr",
                "text": [
                  "DEBUG:fontTools.subset.timer:Took 0.009s to load 'glyf'\n"
                ]
              },
              {
                "output_type": "stream",
                "name": "stderr",
                "text": [
                  "DEBUG:fontTools.subset.timer:Took 0.000s to prune 'glyf'\n"
                ]
              },
              {
                "output_type": "stream",
                "name": "stderr",
                "text": [
                  "INFO:fontTools.subset:glyf pruned\n"
                ]
              },
              {
                "output_type": "stream",
                "name": "stderr",
                "text": [
                  "DEBUG:fontTools.subset.timer:Took 0.000s to close glyph list over 'cmap'\n"
                ]
              },
              {
                "output_type": "stream",
                "name": "stderr",
                "text": [
                  "INFO:fontTools.subset:Added gid0 to subset\n"
                ]
              },
              {
                "output_type": "stream",
                "name": "stderr",
                "text": [
                  "INFO:fontTools.subset:Closing glyph list over 'glyf': 11 glyphs before\n"
                ]
              },
              {
                "output_type": "stream",
                "name": "stderr",
                "text": [
                  "INFO:fontTools.subset:Glyph names: ['.notdef', 'eight', 'five', 'four', 'nine', 'one', 'seven', 'six', 'two', 'uni00A0', 'zero']\n"
                ]
              },
              {
                "output_type": "stream",
                "name": "stderr",
                "text": [
                  "INFO:fontTools.subset:Glyph IDs:   [0, 3, 19, 20, 21, 23, 24, 25, 26, 27, 28]\n"
                ]
              },
              {
                "output_type": "stream",
                "name": "stderr",
                "text": [
                  "INFO:fontTools.subset:Closed glyph list over 'glyf': 11 glyphs after\n"
                ]
              },
              {
                "output_type": "stream",
                "name": "stderr",
                "text": [
                  "INFO:fontTools.subset:Glyph names: ['.notdef', 'eight', 'five', 'four', 'nine', 'one', 'seven', 'six', 'two', 'uni00A0', 'zero']\n"
                ]
              },
              {
                "output_type": "stream",
                "name": "stderr",
                "text": [
                  "INFO:fontTools.subset:Glyph IDs:   [0, 3, 19, 20, 21, 23, 24, 25, 26, 27, 28]\n"
                ]
              },
              {
                "output_type": "stream",
                "name": "stderr",
                "text": [
                  "DEBUG:fontTools.subset.timer:Took 0.004s to close glyph list over 'glyf'\n"
                ]
              },
              {
                "output_type": "stream",
                "name": "stderr",
                "text": [
                  "INFO:fontTools.subset:Retaining 11 glyphs\n"
                ]
              },
              {
                "output_type": "stream",
                "name": "stderr",
                "text": [
                  "INFO:fontTools.subset:head subsetting not needed\n"
                ]
              },
              {
                "output_type": "stream",
                "name": "stderr",
                "text": [
                  "INFO:fontTools.subset:hhea subsetting not needed\n"
                ]
              },
              {
                "output_type": "stream",
                "name": "stderr",
                "text": [
                  "INFO:fontTools.subset:maxp subsetting not needed\n"
                ]
              },
              {
                "output_type": "stream",
                "name": "stderr",
                "text": [
                  "INFO:fontTools.subset:OS/2 subsetting not needed\n"
                ]
              },
              {
                "output_type": "stream",
                "name": "stderr",
                "text": [
                  "DEBUG:fontTools.ttLib.ttFont:Reading 'hmtx' table from disk\n"
                ]
              },
              {
                "output_type": "stream",
                "name": "stderr",
                "text": [
                  "DEBUG:fontTools.ttLib.ttFont:Decompiling 'hmtx' table\n"
                ]
              },
              {
                "output_type": "stream",
                "name": "stderr",
                "text": [
                  "DEBUG:fontTools.ttLib.ttFont:Reading 'hhea' table from disk\n"
                ]
              },
              {
                "output_type": "stream",
                "name": "stderr",
                "text": [
                  "DEBUG:fontTools.ttLib.ttFont:Decompiling 'hhea' table\n"
                ]
              },
              {
                "output_type": "stream",
                "name": "stderr",
                "text": [
                  "DEBUG:fontTools.subset.timer:Took 0.003s to subset 'hmtx'\n"
                ]
              },
              {
                "output_type": "stream",
                "name": "stderr",
                "text": [
                  "INFO:fontTools.subset:hmtx subsetted\n"
                ]
              },
              {
                "output_type": "stream",
                "name": "stderr",
                "text": [
                  "DEBUG:fontTools.subset.timer:Took 0.000s to subset 'cmap'\n"
                ]
              },
              {
                "output_type": "stream",
                "name": "stderr",
                "text": [
                  "INFO:fontTools.subset:cmap subsetted\n"
                ]
              },
              {
                "output_type": "stream",
                "name": "stderr",
                "text": [
                  "INFO:fontTools.subset:loca subsetting not needed\n"
                ]
              },
              {
                "output_type": "stream",
                "name": "stderr",
                "text": [
                  "DEBUG:fontTools.subset.timer:Took 0.000s to subset 'post'\n"
                ]
              },
              {
                "output_type": "stream",
                "name": "stderr",
                "text": [
                  "INFO:fontTools.subset:post subsetted\n"
                ]
              },
              {
                "output_type": "stream",
                "name": "stderr",
                "text": [
                  "INFO:fontTools.subset:gasp subsetting not needed\n"
                ]
              },
              {
                "output_type": "stream",
                "name": "stderr",
                "text": [
                  "INFO:fontTools.subset:FFTM NOT subset; don't know how to subset\n"
                ]
              },
              {
                "output_type": "stream",
                "name": "stderr",
                "text": [
                  "DEBUG:fontTools.ttLib.ttFont:Reading 'GDEF' table from disk\n"
                ]
              },
              {
                "output_type": "stream",
                "name": "stderr",
                "text": [
                  "DEBUG:fontTools.ttLib.ttFont:Decompiling 'GDEF' table\n"
                ]
              },
              {
                "output_type": "stream",
                "name": "stderr",
                "text": [
                  "DEBUG:fontTools.subset.timer:Took 0.002s to subset 'GDEF'\n"
                ]
              },
              {
                "output_type": "stream",
                "name": "stderr",
                "text": [
                  "INFO:fontTools.subset:GDEF subsetted\n"
                ]
              },
              {
                "output_type": "stream",
                "name": "stderr",
                "text": [
                  "INFO:fontTools.subset:name subsetting not needed\n"
                ]
              },
              {
                "output_type": "stream",
                "name": "stderr",
                "text": [
                  "DEBUG:fontTools.subset.timer:Took 0.001s to subset 'glyf'\n"
                ]
              },
              {
                "output_type": "stream",
                "name": "stderr",
                "text": [
                  "INFO:fontTools.subset:glyf subsetted\n"
                ]
              },
              {
                "output_type": "stream",
                "name": "stderr",
                "text": [
                  "DEBUG:fontTools.subset.timer:Took 0.000s to subset GlyphOrder\n"
                ]
              },
              {
                "output_type": "stream",
                "name": "stderr",
                "text": [
                  "DEBUG:fontTools.subset.timer:Took 0.000s to prune 'head'\n"
                ]
              },
              {
                "output_type": "stream",
                "name": "stderr",
                "text": [
                  "INFO:fontTools.subset:head pruned\n"
                ]
              },
              {
                "output_type": "stream",
                "name": "stderr",
                "text": [
                  "DEBUG:fontTools.ttLib.ttFont:Reading 'OS/2' table from disk\n"
                ]
              },
              {
                "output_type": "stream",
                "name": "stderr",
                "text": [
                  "DEBUG:fontTools.ttLib.ttFont:Decompiling 'OS/2' table\n"
                ]
              },
              {
                "output_type": "stream",
                "name": "stderr",
                "text": [
                  "INFO:fontTools.subset:OS/2 Unicode ranges pruned: [0, 1]\n"
                ]
              },
              {
                "output_type": "stream",
                "name": "stderr",
                "text": [
                  "INFO:fontTools.subset:OS/2 CodePage ranges pruned: [0]\n"
                ]
              },
              {
                "output_type": "stream",
                "name": "stderr",
                "text": [
                  "DEBUG:fontTools.subset.timer:Took 0.000s to prune 'glyf'\n"
                ]
              },
              {
                "output_type": "stream",
                "name": "stderr",
                "text": [
                  "INFO:fontTools.subset:glyf pruned\n"
                ]
              },
              {
                "output_type": "stream",
                "name": "stderr",
                "text": [
                  "DEBUG:fontTools.subset.timer:Took 0.000s to prune 'GDEF'\n"
                ]
              },
              {
                "output_type": "stream",
                "name": "stderr",
                "text": [
                  "INFO:fontTools.subset:GDEF pruned\n"
                ]
              },
              {
                "output_type": "stream",
                "name": "stderr",
                "text": [
                  "DEBUG:fontTools.ttLib.ttFont:Reading 'name' table from disk\n"
                ]
              },
              {
                "output_type": "stream",
                "name": "stderr",
                "text": [
                  "DEBUG:fontTools.ttLib.ttFont:Decompiling 'name' table\n"
                ]
              },
              {
                "output_type": "stream",
                "name": "stderr",
                "text": [
                  "DEBUG:fontTools.ttLib.ttFont:Reading 'gasp' table from disk\n"
                ]
              },
              {
                "output_type": "stream",
                "name": "stderr",
                "text": [
                  "DEBUG:fontTools.ttLib.ttFont:Decompiling 'gasp' table\n"
                ]
              },
              {
                "output_type": "stream",
                "name": "stderr",
                "text": [
                  "DEBUG:fontTools.ttLib.ttFont:Reading 'FFTM' table from disk\n"
                ]
              },
              {
                "output_type": "stream",
                "name": "stderr",
                "text": [
                  "DEBUG:fontTools.ttLib.ttFont:Decompiling 'FFTM' table\n"
                ]
              },
              {
                "output_type": "stream",
                "name": "stderr",
                "text": [
                  "DEBUG:fontTools.subset.timer:Took 0.004s to prune 'name'\n"
                ]
              },
              {
                "output_type": "stream",
                "name": "stderr",
                "text": [
                  "INFO:fontTools.subset:name pruned\n"
                ]
              },
              {
                "output_type": "stream",
                "name": "stderr",
                "text": [
                  "DEBUG:fontTools.ttLib.ttFont:Reading 'maxp' table from disk\n"
                ]
              },
              {
                "output_type": "stream",
                "name": "stderr",
                "text": [
                  "DEBUG:fontTools.ttLib.ttFont:Decompiling 'maxp' table\n"
                ]
              },
              {
                "output_type": "stream",
                "name": "stderr",
                "text": [
                  "DEBUG:fontTools.subset.timer:Took 0.010s to load 'maxp'\n"
                ]
              },
              {
                "output_type": "stream",
                "name": "stderr",
                "text": [
                  "DEBUG:fontTools.subset.timer:Took 0.000s to prune 'maxp'\n"
                ]
              },
              {
                "output_type": "stream",
                "name": "stderr",
                "text": [
                  "INFO:fontTools.subset:maxp pruned\n"
                ]
              },
              {
                "output_type": "stream",
                "name": "stderr",
                "text": [
                  "DEBUG:fontTools.ttLib.ttFont:Reading 'cmap' table from disk\n"
                ]
              },
              {
                "output_type": "stream",
                "name": "stderr",
                "text": [
                  "DEBUG:fontTools.ttLib.ttFont:Decompiling 'cmap' table\n"
                ]
              },
              {
                "output_type": "stream",
                "name": "stderr",
                "text": [
                  "DEBUG:fontTools.ttLib.ttFont:Reading 'post' table from disk\n"
                ]
              },
              {
                "output_type": "stream",
                "name": "stderr",
                "text": [
                  "DEBUG:fontTools.ttLib.ttFont:Decompiling 'post' table\n"
                ]
              },
              {
                "output_type": "stream",
                "name": "stderr",
                "text": [
                  "DEBUG:fontTools.subset.timer:Took 0.004s to load 'cmap'\n"
                ]
              },
              {
                "output_type": "stream",
                "name": "stderr",
                "text": [
                  "DEBUG:fontTools.subset.timer:Took 0.000s to prune 'cmap'\n"
                ]
              },
              {
                "output_type": "stream",
                "name": "stderr",
                "text": [
                  "INFO:fontTools.subset:cmap pruned\n"
                ]
              },
              {
                "output_type": "stream",
                "name": "stderr",
                "text": [
                  "INFO:fontTools.subset:fpgm dropped\n"
                ]
              },
              {
                "output_type": "stream",
                "name": "stderr",
                "text": [
                  "INFO:fontTools.subset:prep dropped\n"
                ]
              },
              {
                "output_type": "stream",
                "name": "stderr",
                "text": [
                  "INFO:fontTools.subset:cvt  dropped\n"
                ]
              },
              {
                "output_type": "stream",
                "name": "stderr",
                "text": [
                  "DEBUG:fontTools.subset.timer:Took 0.000s to load 'post'\n"
                ]
              },
              {
                "output_type": "stream",
                "name": "stderr",
                "text": [
                  "DEBUG:fontTools.subset.timer:Took 0.000s to prune 'post'\n"
                ]
              },
              {
                "output_type": "stream",
                "name": "stderr",
                "text": [
                  "INFO:fontTools.subset:post pruned\n"
                ]
              },
              {
                "output_type": "stream",
                "name": "stderr",
                "text": [
                  "DEBUG:fontTools.ttLib.ttFont:Reading 'glyf' table from disk\n"
                ]
              },
              {
                "output_type": "stream",
                "name": "stderr",
                "text": [
                  "DEBUG:fontTools.ttLib.ttFont:Decompiling 'glyf' table\n"
                ]
              },
              {
                "output_type": "stream",
                "name": "stderr",
                "text": [
                  "DEBUG:fontTools.ttLib.ttFont:Reading 'loca' table from disk\n"
                ]
              },
              {
                "output_type": "stream",
                "name": "stderr",
                "text": [
                  "DEBUG:fontTools.ttLib.ttFont:Decompiling 'loca' table\n"
                ]
              },
              {
                "output_type": "stream",
                "name": "stderr",
                "text": [
                  "DEBUG:fontTools.ttLib.ttFont:Reading 'head' table from disk\n"
                ]
              },
              {
                "output_type": "stream",
                "name": "stderr",
                "text": [
                  "DEBUG:fontTools.ttLib.ttFont:Decompiling 'head' table\n"
                ]
              },
              {
                "output_type": "stream",
                "name": "stderr",
                "text": [
                  "DEBUG:fontTools.subset.timer:Took 0.005s to load 'glyf'\n"
                ]
              },
              {
                "output_type": "stream",
                "name": "stderr",
                "text": [
                  "DEBUG:fontTools.subset.timer:Took 0.000s to prune 'glyf'\n"
                ]
              },
              {
                "output_type": "stream",
                "name": "stderr",
                "text": [
                  "INFO:fontTools.subset:glyf pruned\n"
                ]
              },
              {
                "output_type": "stream",
                "name": "stderr",
                "text": [
                  "DEBUG:fontTools.subset.timer:Took 0.000s to close glyph list over 'cmap'\n"
                ]
              },
              {
                "output_type": "stream",
                "name": "stderr",
                "text": [
                  "INFO:fontTools.subset:Added gid0 to subset\n"
                ]
              },
              {
                "output_type": "stream",
                "name": "stderr",
                "text": [
                  "INFO:fontTools.subset:Closing glyph list over 'glyf': 11 glyphs before\n"
                ]
              },
              {
                "output_type": "stream",
                "name": "stderr",
                "text": [
                  "INFO:fontTools.subset:Glyph names: ['.notdef', 'eight', 'five', 'four', 'nine', 'one', 'seven', 'six', 'three', 'two', 'zero']\n"
                ]
              },
              {
                "output_type": "stream",
                "name": "stderr",
                "text": [
                  "INFO:fontTools.subset:Glyph IDs:   [0, 19, 20, 21, 22, 23, 24, 25, 26, 27, 28]\n"
                ]
              },
              {
                "output_type": "stream",
                "name": "stderr",
                "text": [
                  "INFO:fontTools.subset:Closed glyph list over 'glyf': 11 glyphs after\n"
                ]
              },
              {
                "output_type": "stream",
                "name": "stderr",
                "text": [
                  "INFO:fontTools.subset:Glyph names: ['.notdef', 'eight', 'five', 'four', 'nine', 'one', 'seven', 'six', 'three', 'two', 'zero']\n"
                ]
              },
              {
                "output_type": "stream",
                "name": "stderr",
                "text": [
                  "INFO:fontTools.subset:Glyph IDs:   [0, 19, 20, 21, 22, 23, 24, 25, 26, 27, 28]\n"
                ]
              },
              {
                "output_type": "stream",
                "name": "stderr",
                "text": [
                  "DEBUG:fontTools.subset.timer:Took 0.004s to close glyph list over 'glyf'\n"
                ]
              },
              {
                "output_type": "stream",
                "name": "stderr",
                "text": [
                  "INFO:fontTools.subset:Retaining 11 glyphs\n"
                ]
              },
              {
                "output_type": "stream",
                "name": "stderr",
                "text": [
                  "INFO:fontTools.subset:head subsetting not needed\n"
                ]
              },
              {
                "output_type": "stream",
                "name": "stderr",
                "text": [
                  "INFO:fontTools.subset:hhea subsetting not needed\n"
                ]
              },
              {
                "output_type": "stream",
                "name": "stderr",
                "text": [
                  "INFO:fontTools.subset:maxp subsetting not needed\n"
                ]
              },
              {
                "output_type": "stream",
                "name": "stderr",
                "text": [
                  "INFO:fontTools.subset:OS/2 subsetting not needed\n"
                ]
              },
              {
                "output_type": "stream",
                "name": "stderr",
                "text": [
                  "DEBUG:fontTools.ttLib.ttFont:Reading 'hmtx' table from disk\n"
                ]
              },
              {
                "output_type": "stream",
                "name": "stderr",
                "text": [
                  "DEBUG:fontTools.ttLib.ttFont:Decompiling 'hmtx' table\n"
                ]
              },
              {
                "output_type": "stream",
                "name": "stderr",
                "text": [
                  "DEBUG:fontTools.ttLib.ttFont:Reading 'hhea' table from disk\n"
                ]
              },
              {
                "output_type": "stream",
                "name": "stderr",
                "text": [
                  "DEBUG:fontTools.ttLib.ttFont:Decompiling 'hhea' table\n"
                ]
              },
              {
                "output_type": "stream",
                "name": "stderr",
                "text": [
                  "DEBUG:fontTools.subset.timer:Took 0.003s to subset 'hmtx'\n"
                ]
              },
              {
                "output_type": "stream",
                "name": "stderr",
                "text": [
                  "INFO:fontTools.subset:hmtx subsetted\n"
                ]
              },
              {
                "output_type": "stream",
                "name": "stderr",
                "text": [
                  "DEBUG:fontTools.subset.timer:Took 0.000s to subset 'cmap'\n"
                ]
              },
              {
                "output_type": "stream",
                "name": "stderr",
                "text": [
                  "INFO:fontTools.subset:cmap subsetted\n"
                ]
              },
              {
                "output_type": "stream",
                "name": "stderr",
                "text": [
                  "INFO:fontTools.subset:loca subsetting not needed\n"
                ]
              },
              {
                "output_type": "stream",
                "name": "stderr",
                "text": [
                  "DEBUG:fontTools.subset.timer:Took 0.000s to subset 'post'\n"
                ]
              },
              {
                "output_type": "stream",
                "name": "stderr",
                "text": [
                  "INFO:fontTools.subset:post subsetted\n"
                ]
              },
              {
                "output_type": "stream",
                "name": "stderr",
                "text": [
                  "INFO:fontTools.subset:gasp subsetting not needed\n"
                ]
              },
              {
                "output_type": "stream",
                "name": "stderr",
                "text": [
                  "INFO:fontTools.subset:FFTM NOT subset; don't know how to subset\n"
                ]
              },
              {
                "output_type": "stream",
                "name": "stderr",
                "text": [
                  "DEBUG:fontTools.ttLib.ttFont:Reading 'GDEF' table from disk\n"
                ]
              },
              {
                "output_type": "stream",
                "name": "stderr",
                "text": [
                  "DEBUG:fontTools.ttLib.ttFont:Decompiling 'GDEF' table\n"
                ]
              },
              {
                "output_type": "stream",
                "name": "stderr",
                "text": [
                  "DEBUG:fontTools.subset.timer:Took 0.002s to subset 'GDEF'\n"
                ]
              },
              {
                "output_type": "stream",
                "name": "stderr",
                "text": [
                  "INFO:fontTools.subset:GDEF subsetted\n"
                ]
              },
              {
                "output_type": "stream",
                "name": "stderr",
                "text": [
                  "INFO:fontTools.subset:name subsetting not needed\n"
                ]
              },
              {
                "output_type": "stream",
                "name": "stderr",
                "text": [
                  "DEBUG:fontTools.subset.timer:Took 0.001s to subset 'glyf'\n"
                ]
              },
              {
                "output_type": "stream",
                "name": "stderr",
                "text": [
                  "INFO:fontTools.subset:glyf subsetted\n"
                ]
              },
              {
                "output_type": "stream",
                "name": "stderr",
                "text": [
                  "DEBUG:fontTools.subset.timer:Took 0.000s to subset GlyphOrder\n"
                ]
              },
              {
                "output_type": "stream",
                "name": "stderr",
                "text": [
                  "DEBUG:fontTools.subset.timer:Took 0.000s to prune 'head'\n"
                ]
              },
              {
                "output_type": "stream",
                "name": "stderr",
                "text": [
                  "INFO:fontTools.subset:head pruned\n"
                ]
              },
              {
                "output_type": "stream",
                "name": "stderr",
                "text": [
                  "DEBUG:fontTools.ttLib.ttFont:Reading 'OS/2' table from disk\n"
                ]
              },
              {
                "output_type": "stream",
                "name": "stderr",
                "text": [
                  "DEBUG:fontTools.ttLib.ttFont:Decompiling 'OS/2' table\n"
                ]
              },
              {
                "output_type": "stream",
                "name": "stderr",
                "text": [
                  "INFO:fontTools.subset:OS/2 Unicode ranges pruned: [0]\n"
                ]
              },
              {
                "output_type": "stream",
                "name": "stderr",
                "text": [
                  "INFO:fontTools.subset:OS/2 CodePage ranges pruned: [0]\n"
                ]
              },
              {
                "output_type": "stream",
                "name": "stderr",
                "text": [
                  "DEBUG:fontTools.subset.timer:Took 0.000s to prune 'glyf'\n"
                ]
              },
              {
                "output_type": "stream",
                "name": "stderr",
                "text": [
                  "INFO:fontTools.subset:glyf pruned\n"
                ]
              },
              {
                "output_type": "stream",
                "name": "stderr",
                "text": [
                  "DEBUG:fontTools.subset.timer:Took 0.000s to prune 'GDEF'\n"
                ]
              },
              {
                "output_type": "stream",
                "name": "stderr",
                "text": [
                  "INFO:fontTools.subset:GDEF pruned\n"
                ]
              },
              {
                "output_type": "stream",
                "name": "stderr",
                "text": [
                  "DEBUG:fontTools.ttLib.ttFont:Reading 'name' table from disk\n"
                ]
              },
              {
                "output_type": "stream",
                "name": "stderr",
                "text": [
                  "DEBUG:fontTools.ttLib.ttFont:Decompiling 'name' table\n"
                ]
              },
              {
                "output_type": "stream",
                "name": "stderr",
                "text": [
                  "DEBUG:fontTools.ttLib.ttFont:Reading 'gasp' table from disk\n"
                ]
              },
              {
                "output_type": "stream",
                "name": "stderr",
                "text": [
                  "DEBUG:fontTools.ttLib.ttFont:Decompiling 'gasp' table\n"
                ]
              },
              {
                "output_type": "stream",
                "name": "stderr",
                "text": [
                  "DEBUG:fontTools.ttLib.ttFont:Reading 'FFTM' table from disk\n"
                ]
              },
              {
                "output_type": "stream",
                "name": "stderr",
                "text": [
                  "DEBUG:fontTools.ttLib.ttFont:Decompiling 'FFTM' table\n"
                ]
              },
              {
                "output_type": "stream",
                "name": "stderr",
                "text": [
                  "DEBUG:fontTools.subset.timer:Took 0.004s to prune 'name'\n"
                ]
              },
              {
                "output_type": "stream",
                "name": "stderr",
                "text": [
                  "INFO:fontTools.subset:name pruned\n"
                ]
              },
              {
                "output_type": "stream",
                "name": "stdout",
                "text": [
                  "✅ PDFとPNGを保存しました！\n"
                ]
              },
              {
                "output_type": "display_data",
                "data": {
                  "text/plain": "<IPython.core.display.Javascript object>",
                  "application/javascript": "\n    async function download(id, filename, size) {\n      if (!google.colab.kernel.accessAllowed) {\n        return;\n      }\n      const div = document.createElement('div');\n      const label = document.createElement('label');\n      label.textContent = `Downloading \"${filename}\": `;\n      div.appendChild(label);\n      const progress = document.createElement('progress');\n      progress.max = size;\n      div.appendChild(progress);\n      document.body.appendChild(div);\n\n      const buffers = [];\n      let downloaded = 0;\n\n      const channel = await google.colab.kernel.comms.open(id);\n      // Send a message to notify the kernel that we're ready.\n      channel.send({})\n\n      for await (const message of channel.messages) {\n        // Send a message to notify the kernel that we're ready.\n        channel.send({})\n        if (message.buffers) {\n          for (const buffer of message.buffers) {\n            buffers.push(buffer);\n            downloaded += buffer.byteLength;\n            progress.value = downloaded;\n          }\n        }\n      }\n      const blob = new Blob(buffers, {type: 'application/binary'});\n      const a = document.createElement('a');\n      a.href = window.URL.createObjectURL(blob);\n      a.download = filename;\n      div.appendChild(a);\n      a.click();\n      div.remove();\n    }\n  "
                },
                "metadata": {}
              },
              {
                "output_type": "display_data",
                "data": {
                  "text/plain": "<IPython.core.display.Javascript object>",
                  "application/javascript": "download(\"download_3675d0dc-0fb3-4466-9a4d-d53d74560ffd\", \"calendar_2025_4_7months.pdf\", 10579)"
                },
                "metadata": {}
              },
              {
                "output_type": "display_data",
                "data": {
                  "text/plain": "<IPython.core.display.Javascript object>",
                  "application/javascript": "\n    async function download(id, filename, size) {\n      if (!google.colab.kernel.accessAllowed) {\n        return;\n      }\n      const div = document.createElement('div');\n      const label = document.createElement('label');\n      label.textContent = `Downloading \"${filename}\": `;\n      div.appendChild(label);\n      const progress = document.createElement('progress');\n      progress.max = size;\n      div.appendChild(progress);\n      document.body.appendChild(div);\n\n      const buffers = [];\n      let downloaded = 0;\n\n      const channel = await google.colab.kernel.comms.open(id);\n      // Send a message to notify the kernel that we're ready.\n      channel.send({})\n\n      for await (const message of channel.messages) {\n        // Send a message to notify the kernel that we're ready.\n        channel.send({})\n        if (message.buffers) {\n          for (const buffer of message.buffers) {\n            buffers.push(buffer);\n            downloaded += buffer.byteLength;\n            progress.value = downloaded;\n          }\n        }\n      }\n      const blob = new Blob(buffers, {type: 'application/binary'});\n      const a = document.createElement('a');\n      a.href = window.URL.createObjectURL(blob);\n      a.download = filename;\n      div.appendChild(a);\n      a.click();\n      div.remove();\n    }\n  "
                },
                "metadata": {}
              },
              {
                "output_type": "display_data",
                "data": {
                  "text/plain": "<IPython.core.display.Javascript object>",
                  "application/javascript": "download(\"download_e7c993b1-3792-491d-988d-dcebb263f680\", \"calendar_2025_4_7months.png\", 121596)"
                },
                "metadata": {}
              }
            ]
          }
        },
        "f4dc1e7d7f2e481590143fccb79f7f83": {
          "model_module": "@jupyter-widgets/base",
          "model_name": "LayoutModel",
          "model_module_version": "1.2.0",
          "state": {
            "_model_module": "@jupyter-widgets/base",
            "_model_module_version": "1.2.0",
            "_model_name": "LayoutModel",
            "_view_count": null,
            "_view_module": "@jupyter-widgets/base",
            "_view_module_version": "1.2.0",
            "_view_name": "LayoutView",
            "align_content": null,
            "align_items": null,
            "align_self": null,
            "border": null,
            "bottom": null,
            "display": null,
            "flex": null,
            "flex_flow": null,
            "grid_area": null,
            "grid_auto_columns": null,
            "grid_auto_flow": null,
            "grid_auto_rows": null,
            "grid_column": null,
            "grid_gap": null,
            "grid_row": null,
            "grid_template_areas": null,
            "grid_template_columns": null,
            "grid_template_rows": null,
            "height": null,
            "justify_content": null,
            "justify_items": null,
            "left": null,
            "margin": null,
            "max_height": null,
            "max_width": null,
            "min_height": null,
            "min_width": null,
            "object_fit": null,
            "object_position": null,
            "order": null,
            "overflow": null,
            "overflow_x": null,
            "overflow_y": null,
            "padding": null,
            "right": null,
            "top": null,
            "visibility": null,
            "width": null
          }
        },
        "cdc63efdc4924c6fa487b498d7d772a2": {
          "model_module": "@jupyter-widgets/base",
          "model_name": "LayoutModel",
          "model_module_version": "1.2.0",
          "state": {
            "_model_module": "@jupyter-widgets/base",
            "_model_module_version": "1.2.0",
            "_model_name": "LayoutModel",
            "_view_count": null,
            "_view_module": "@jupyter-widgets/base",
            "_view_module_version": "1.2.0",
            "_view_name": "LayoutView",
            "align_content": null,
            "align_items": null,
            "align_self": null,
            "border": null,
            "bottom": null,
            "display": null,
            "flex": null,
            "flex_flow": null,
            "grid_area": null,
            "grid_auto_columns": null,
            "grid_auto_flow": null,
            "grid_auto_rows": null,
            "grid_column": null,
            "grid_gap": null,
            "grid_row": null,
            "grid_template_areas": null,
            "grid_template_columns": null,
            "grid_template_rows": null,
            "height": null,
            "justify_content": null,
            "justify_items": null,
            "left": null,
            "margin": null,
            "max_height": null,
            "max_width": null,
            "min_height": null,
            "min_width": null,
            "object_fit": null,
            "object_position": null,
            "order": null,
            "overflow": null,
            "overflow_x": null,
            "overflow_y": null,
            "padding": null,
            "right": null,
            "top": null,
            "visibility": null,
            "width": null
          }
        },
        "25977053f0e34534ab3326de80c23768": {
          "model_module": "@jupyter-widgets/controls",
          "model_name": "DescriptionStyleModel",
          "model_module_version": "1.5.0",
          "state": {
            "_model_module": "@jupyter-widgets/controls",
            "_model_module_version": "1.5.0",
            "_model_name": "DescriptionStyleModel",
            "_view_count": null,
            "_view_module": "@jupyter-widgets/base",
            "_view_module_version": "1.2.0",
            "_view_name": "StyleView",
            "description_width": ""
          }
        },
        "a51313b98d564652b761cc4efb48f8d2": {
          "model_module": "@jupyter-widgets/base",
          "model_name": "LayoutModel",
          "model_module_version": "1.2.0",
          "state": {
            "_model_module": "@jupyter-widgets/base",
            "_model_module_version": "1.2.0",
            "_model_name": "LayoutModel",
            "_view_count": null,
            "_view_module": "@jupyter-widgets/base",
            "_view_module_version": "1.2.0",
            "_view_name": "LayoutView",
            "align_content": null,
            "align_items": null,
            "align_self": null,
            "border": null,
            "bottom": null,
            "display": null,
            "flex": null,
            "flex_flow": null,
            "grid_area": null,
            "grid_auto_columns": null,
            "grid_auto_flow": null,
            "grid_auto_rows": null,
            "grid_column": null,
            "grid_gap": null,
            "grid_row": null,
            "grid_template_areas": null,
            "grid_template_columns": null,
            "grid_template_rows": null,
            "height": null,
            "justify_content": null,
            "justify_items": null,
            "left": null,
            "margin": null,
            "max_height": null,
            "max_width": null,
            "min_height": null,
            "min_width": null,
            "object_fit": null,
            "object_position": null,
            "order": null,
            "overflow": null,
            "overflow_x": null,
            "overflow_y": null,
            "padding": null,
            "right": null,
            "top": null,
            "visibility": null,
            "width": null
          }
        },
        "09368f3666714264ad5f8d4178593dfd": {
          "model_module": "@jupyter-widgets/controls",
          "model_name": "DescriptionStyleModel",
          "model_module_version": "1.5.0",
          "state": {
            "_model_module": "@jupyter-widgets/controls",
            "_model_module_version": "1.5.0",
            "_model_name": "DescriptionStyleModel",
            "_view_count": null,
            "_view_module": "@jupyter-widgets/base",
            "_view_module_version": "1.2.0",
            "_view_name": "StyleView",
            "description_width": ""
          }
        },
        "66c36f41560943c89d0ddf613b068af5": {
          "model_module": "@jupyter-widgets/base",
          "model_name": "LayoutModel",
          "model_module_version": "1.2.0",
          "state": {
            "_model_module": "@jupyter-widgets/base",
            "_model_module_version": "1.2.0",
            "_model_name": "LayoutModel",
            "_view_count": null,
            "_view_module": "@jupyter-widgets/base",
            "_view_module_version": "1.2.0",
            "_view_name": "LayoutView",
            "align_content": null,
            "align_items": null,
            "align_self": null,
            "border": null,
            "bottom": null,
            "display": null,
            "flex": null,
            "flex_flow": null,
            "grid_area": null,
            "grid_auto_columns": null,
            "grid_auto_flow": null,
            "grid_auto_rows": null,
            "grid_column": null,
            "grid_gap": null,
            "grid_row": null,
            "grid_template_areas": null,
            "grid_template_columns": null,
            "grid_template_rows": null,
            "height": null,
            "justify_content": null,
            "justify_items": null,
            "left": null,
            "margin": null,
            "max_height": null,
            "max_width": null,
            "min_height": null,
            "min_width": null,
            "object_fit": null,
            "object_position": null,
            "order": null,
            "overflow": null,
            "overflow_x": null,
            "overflow_y": null,
            "padding": null,
            "right": null,
            "top": null,
            "visibility": null,
            "width": null
          }
        },
        "b17b85d210ad4ae6ba4bdbef27025d7c": {
          "model_module": "@jupyter-widgets/controls",
          "model_name": "SliderStyleModel",
          "model_module_version": "1.5.0",
          "state": {
            "_model_module": "@jupyter-widgets/controls",
            "_model_module_version": "1.5.0",
            "_model_name": "SliderStyleModel",
            "_view_count": null,
            "_view_module": "@jupyter-widgets/base",
            "_view_module_version": "1.2.0",
            "_view_name": "StyleView",
            "description_width": "",
            "handle_color": null
          }
        },
        "7d051f863cda48959ec1da778ff9fc6d": {
          "model_module": "@jupyter-widgets/base",
          "model_name": "LayoutModel",
          "model_module_version": "1.2.0",
          "state": {
            "_model_module": "@jupyter-widgets/base",
            "_model_module_version": "1.2.0",
            "_model_name": "LayoutModel",
            "_view_count": null,
            "_view_module": "@jupyter-widgets/base",
            "_view_module_version": "1.2.0",
            "_view_name": "LayoutView",
            "align_content": null,
            "align_items": null,
            "align_self": null,
            "border": null,
            "bottom": null,
            "display": null,
            "flex": null,
            "flex_flow": null,
            "grid_area": null,
            "grid_auto_columns": null,
            "grid_auto_flow": null,
            "grid_auto_rows": null,
            "grid_column": null,
            "grid_gap": null,
            "grid_row": null,
            "grid_template_areas": null,
            "grid_template_columns": null,
            "grid_template_rows": null,
            "height": null,
            "justify_content": null,
            "justify_items": null,
            "left": null,
            "margin": null,
            "max_height": null,
            "max_width": null,
            "min_height": null,
            "min_width": null,
            "object_fit": null,
            "object_position": null,
            "order": null,
            "overflow": null,
            "overflow_x": null,
            "overflow_y": null,
            "padding": null,
            "right": null,
            "top": null,
            "visibility": null,
            "width": null
          }
        },
        "92c03fef24d54b1a832d5e45f18e16e9": {
          "model_module": "@jupyter-widgets/controls",
          "model_name": "SliderStyleModel",
          "model_module_version": "1.5.0",
          "state": {
            "_model_module": "@jupyter-widgets/controls",
            "_model_module_version": "1.5.0",
            "_model_name": "SliderStyleModel",
            "_view_count": null,
            "_view_module": "@jupyter-widgets/base",
            "_view_module_version": "1.2.0",
            "_view_name": "StyleView",
            "description_width": "",
            "handle_color": null
          }
        },
        "2e389a77aba14d58a3930976d0b6eefb": {
          "model_module": "@jupyter-widgets/base",
          "model_name": "LayoutModel",
          "model_module_version": "1.2.0",
          "state": {
            "_model_module": "@jupyter-widgets/base",
            "_model_module_version": "1.2.0",
            "_model_name": "LayoutModel",
            "_view_count": null,
            "_view_module": "@jupyter-widgets/base",
            "_view_module_version": "1.2.0",
            "_view_name": "LayoutView",
            "align_content": null,
            "align_items": null,
            "align_self": null,
            "border": null,
            "bottom": null,
            "display": null,
            "flex": null,
            "flex_flow": null,
            "grid_area": null,
            "grid_auto_columns": null,
            "grid_auto_flow": null,
            "grid_auto_rows": null,
            "grid_column": null,
            "grid_gap": null,
            "grid_row": null,
            "grid_template_areas": null,
            "grid_template_columns": null,
            "grid_template_rows": null,
            "height": null,
            "justify_content": null,
            "justify_items": null,
            "left": null,
            "margin": null,
            "max_height": null,
            "max_width": null,
            "min_height": null,
            "min_width": null,
            "object_fit": null,
            "object_position": null,
            "order": null,
            "overflow": null,
            "overflow_x": null,
            "overflow_y": null,
            "padding": null,
            "right": null,
            "top": null,
            "visibility": null,
            "width": null
          }
        },
        "148651580dcc4cfe9f6925d677da25ee": {
          "model_module": "@jupyter-widgets/controls",
          "model_name": "ButtonStyleModel",
          "model_module_version": "1.5.0",
          "state": {
            "_model_module": "@jupyter-widgets/controls",
            "_model_module_version": "1.5.0",
            "_model_name": "ButtonStyleModel",
            "_view_count": null,
            "_view_module": "@jupyter-widgets/base",
            "_view_module_version": "1.2.0",
            "_view_name": "StyleView",
            "button_color": null,
            "font_weight": ""
          }
        },
        "c39b0214d485463d8788448fdeeefcff": {
          "model_module": "@jupyter-widgets/base",
          "model_name": "LayoutModel",
          "model_module_version": "1.2.0",
          "state": {
            "_model_module": "@jupyter-widgets/base",
            "_model_module_version": "1.2.0",
            "_model_name": "LayoutModel",
            "_view_count": null,
            "_view_module": "@jupyter-widgets/base",
            "_view_module_version": "1.2.0",
            "_view_name": "LayoutView",
            "align_content": null,
            "align_items": null,
            "align_self": null,
            "border": null,
            "bottom": null,
            "display": null,
            "flex": null,
            "flex_flow": null,
            "grid_area": null,
            "grid_auto_columns": null,
            "grid_auto_flow": null,
            "grid_auto_rows": null,
            "grid_column": null,
            "grid_gap": null,
            "grid_row": null,
            "grid_template_areas": null,
            "grid_template_columns": null,
            "grid_template_rows": null,
            "height": null,
            "justify_content": null,
            "justify_items": null,
            "left": null,
            "margin": null,
            "max_height": null,
            "max_width": null,
            "min_height": null,
            "min_width": null,
            "object_fit": null,
            "object_position": null,
            "order": null,
            "overflow": null,
            "overflow_x": null,
            "overflow_y": null,
            "padding": null,
            "right": null,
            "top": null,
            "visibility": null,
            "width": null
          }
        }
      }
    }
  },
  "cells": [
    {
      "cell_type": "markdown",
      "metadata": {
        "id": "view-in-github",
        "colab_type": "text"
      },
      "source": [
        "<a href=\"https://colab.research.google.com/github/yamadashamoji/tools/blob/main/006_date_calculator.ipynb\" target=\"_parent\"><img src=\"https://colab.research.google.com/assets/colab-badge.svg\" alt=\"Open In Colab\"/></a>"
      ]
    },
    {
      "cell_type": "code",
      "source": [
        "# @title 日付計算アプリ\n",
        "\n",
        "!pip install -q python-dateutil\n",
        "!pip install -q jpholiday\n",
        "\n",
        "import datetime\n",
        "import ipywidgets as widgets\n",
        "from IPython.display import display, clear_output\n",
        "from dateutil.relativedelta import relativedelta\n",
        "import jpholiday\n",
        "import calendar\n",
        "from IPython.display import HTML\n",
        "\n",
        "# --------------------------\n",
        "# 共通関数：曜日名取得\n",
        "# --------------------------\n",
        "def get_weekday_name(date_obj):\n",
        "    return [\"月\", \"火\", \"水\", \"木\", \"金\", \"土\", \"日\"][date_obj.weekday()]\n",
        "\n",
        "# --------------------------\n",
        "# ◆ 機能①：日付＋日数 → 計算\n",
        "# --------------------------\n",
        "base_date_picker = widgets.DatePicker(description='基準日:', value=datetime.date.today())\n",
        "days_input = widgets.IntText(description='日数:', value=0)\n",
        "calculate_button = widgets.Button(description='計算する', button_style='primary')\n",
        "result_output = widgets.Output()\n",
        "\n",
        "def calculate_date(b):\n",
        "    with result_output:\n",
        "        clear_output()\n",
        "        base_date = base_date_picker.value\n",
        "        days = days_input.value\n",
        "        if base_date is None:\n",
        "            print(\"⚠️ 基準日を選択してください。\")\n",
        "            return\n",
        "        result_date = base_date + datetime.timedelta(days=days)\n",
        "        weekday = get_weekday_name(result_date)\n",
        "        print(f\"📅 計算結果: {result_date}（{weekday}）\")\n",
        "\n",
        "calculate_button.on_click(calculate_date)\n",
        "date_plus_ui = widgets.VBox([base_date_picker, days_input, calculate_button, result_output])\n",
        "\n",
        "# --------------------------\n",
        "# ◆ 機能②：2つの日付 → 差分\n",
        "# --------------------------\n",
        "start_date_picker = widgets.DatePicker(description='開始日:', value=datetime.date.today())\n",
        "end_date_picker = widgets.DatePicker(description='終了日:', value=datetime.date.today())\n",
        "diff_button = widgets.Button(description='差分を計算', button_style='success')\n",
        "diff_output = widgets.Output()\n",
        "\n",
        "def calculate_diff(b):\n",
        "    with diff_output:\n",
        "        clear_output()\n",
        "        start = start_date_picker.value\n",
        "        end = end_date_picker.value\n",
        "        if start is None or end is None:\n",
        "            print(\"⚠️ 開始日と終了日を選択してください。\")\n",
        "            return\n",
        "        delta = (end - start).days\n",
        "        print(f\"🧮 差分: {abs(delta)}日（{min(start, end)} → {max(start, end)}）\")\n",
        "\n",
        "diff_button.on_click(calculate_diff)\n",
        "date_diff_ui = widgets.VBox([start_date_picker, end_date_picker, diff_button, diff_output])\n",
        "\n",
        "# --------------------------\n",
        "# ◆ 機能③：月単位の加減\n",
        "# --------------------------\n",
        "month_base_picker = widgets.DatePicker(description='基準日:', value=datetime.date.today())\n",
        "month_input = widgets.IntText(description='月数:', value=0)\n",
        "month_button = widgets.Button(description='計算する', button_style='info')\n",
        "month_output = widgets.Output()\n",
        "\n",
        "def calculate_month_add(b):\n",
        "    with month_output:\n",
        "        clear_output()\n",
        "        base = month_base_picker.value\n",
        "        months = month_input.value\n",
        "        if base is None:\n",
        "            print(\"⚠️ 基準日を選択してください。\")\n",
        "            return\n",
        "        result = base + relativedelta(months=months)\n",
        "        weekday = get_weekday_name(result)\n",
        "        print(f\"📆 計算結果: {result}（{weekday}）\")\n",
        "\n",
        "month_button.on_click(calculate_month_add)\n",
        "month_ui = widgets.VBox([month_base_picker, month_input, month_button, month_output])\n",
        "\n",
        "# --------------------------\n",
        "# ◆ 機能④：平日＋祝日除外の差分\n",
        "# --------------------------\n",
        "holiday_start_picker = widgets.DatePicker(description='開始日:', value=datetime.date.today())\n",
        "holiday_end_picker = widgets.DatePicker(description='終了日:', value=datetime.date.today())\n",
        "holiday_button = widgets.Button(description='平日のみ計算', button_style='warning')\n",
        "holiday_output = widgets.Output()\n",
        "\n",
        "def count_weekdays_exclude_holidays(b):\n",
        "    with holiday_output:\n",
        "        clear_output()\n",
        "        start = holiday_start_picker.value\n",
        "        end = holiday_end_picker.value\n",
        "        if start is None or end is None:\n",
        "            print(\"⚠️ 両方の日付を選んでください。\")\n",
        "            return\n",
        "\n",
        "        day1 = min(start, end)\n",
        "        day2 = max(start, end)\n",
        "        count = 0\n",
        "        for i in range((day2 - day1).days + 1):\n",
        "            current = day1 + datetime.timedelta(days=i)\n",
        "            if current.weekday() < 5 and not jpholiday.is_holiday(current):  # 平日かつ祝日でない\n",
        "                count += 1\n",
        "        print(f\"🏢 平日（祝日除く）: {count}日（{day1}〜{day2}）\")\n",
        "\n",
        "holiday_button.on_click(count_weekdays_exclude_holidays)\n",
        "holiday_ui = widgets.VBox([holiday_start_picker, holiday_end_picker, holiday_button, holiday_output])\n",
        "\n",
        "# --------------------------\n",
        "# ◆ 機能⑤：カレンダー表示（祝日付き）\n",
        "# --------------------------\n",
        "\n",
        "# 年・月指定用ウィジェット\n",
        "calendar_year = widgets.IntText(description='年:', value=datetime.date.today().year)\n",
        "calendar_month = widgets.IntSlider(description='月:', value=datetime.date.today().month, min=1, max=12)\n",
        "calendar_button = widgets.Button(description='カレンダー表示', button_style='primary')\n",
        "calendar_output = widgets.Output()\n",
        "\n",
        "def display_calendar(b):\n",
        "    with calendar_output:\n",
        "        clear_output()\n",
        "        year = calendar_year.value\n",
        "        month = calendar_month.value\n",
        "        cal = calendar.Calendar(firstweekday=6)  # 日曜始まり\n",
        "\n",
        "        html = f\"<h4>{year}年 {month}月のカレンダー</h4>\"\n",
        "        html += \"<table style='border-collapse: collapse;'>\"\n",
        "        html += \"<tr>\" + \"\".join([f\"<th style='padding:4px; border: 1px solid #999;'>{day}</th>\" for day in [\"日\", \"月\", \"火\", \"水\", \"木\", \"金\", \"土\"]]) + \"</tr>\"\n",
        "\n",
        "        today = datetime.date.today()\n",
        "        for week in cal.monthdatescalendar(year, month):\n",
        "            html += \"<tr>\"\n",
        "            for day in week:\n",
        "                is_today = (day == today)\n",
        "                is_other_month = (day.month != month)\n",
        "                is_holiday = jpholiday.is_holiday(day)\n",
        "\n",
        "                style = \"padding:4px; border: 1px solid #999; text-align: center;\"\n",
        "                if is_other_month:\n",
        "                    style += \"color: #aaa;\"\n",
        "                elif is_today:\n",
        "                    style += \"background-color: #ffeb3b;\"  # yellow\n",
        "                elif is_holiday or day.weekday() >= 5:\n",
        "                    style += \"color: red;\"\n",
        "\n",
        "                tooltip = \"\"\n",
        "                if is_holiday:\n",
        "                    name = jpholiday.is_holiday_name(day)\n",
        "                    tooltip = f\"title='{name}'\"\n",
        "\n",
        "                html += f\"<td style='{style}' {tooltip}>{day.day}</td>\"\n",
        "            html += \"</tr>\"\n",
        "        html += \"</table>\"\n",
        "\n",
        "        display(HTML(html))\n",
        "\n",
        "calendar_button.on_click(display_calendar)\n",
        "calendar_ui = widgets.VBox([calendar_year, calendar_month, calendar_button, calendar_output])\n",
        "\n",
        "# --------------------------\n",
        "# ◆ UI 全体：タブ表示\n",
        "# --------------------------\n",
        "tabs = widgets.Tab(children=[\n",
        "    date_plus_ui,\n",
        "    date_diff_ui,\n",
        "    month_ui,\n",
        "    holiday_ui,\n",
        "    calendar_ui\n",
        "])\n",
        "\n",
        "tabs.set_title(0, '日数で加算')\n",
        "tabs.set_title(1, '日付の差分')\n",
        "tabs.set_title(2, '月単位の加減')\n",
        "tabs.set_title(3, '平日カウント')\n",
        "tabs.set_title(4, 'カレンダー表示')\n",
        "\n",
        "display(tabs)\n"
      ],
      "metadata": {
        "colab": {
          "base_uri": "https://localhost:8080/",
          "height": 175,
          "referenced_widgets": [
            "42dcf93f322440bdb515a1d4d00df5c3",
            "02c010f4198946d2a915031b4e44068a",
            "73f14957be1645ebb6e688ff3c7e7de6",
            "21913acfe8454f12b599c8b8ed0288ef",
            "0ec1ac1d8fbd4cd18a67291d70a85ac5",
            "c40363b6e5d146978c1887662a049450",
            "a4db057d8c384a0490d3d9d51bb21e85",
            "d5370013e2224f4e996fc0953ee3a59a",
            "fcdb3cc48cc4467995f960c6aedfd46c",
            "f21e09b6df894212aa8e6ec0a12af16d",
            "253044c0581344c9832b203a8e6d6467",
            "bcfa7c1e96fd4d3f81e603863be437cb",
            "c36a162fd19b4c2f9265c26afa4f7bdf",
            "d3aacf81e11d473291b0020b63a4bd37",
            "7c078c2bfcb54071ad347451398317d2",
            "a84158ab0aee46edac678ed605b45223",
            "2a177fc15c7a40f6b18df6600ebdef12",
            "93b9326440ad4c829cf66a12dbc018ff",
            "7825db97e1df49dcb6d8277bb7295cb8",
            "5b48ced4eaa147d8b1bf09d1d23e7e51",
            "224d495d4c994db0873524d4ff2a17ca",
            "0668c253c0b941c59b8b225063dc8bdb",
            "378839f2c34e4e1f8975815787e16b94",
            "37e303bf3ae745538bcc7b970d5a3edf",
            "e3ad96e48a2d4dada43a4de88e30560d",
            "49ce9e477f4147cdad55535c92933cd9",
            "7fb5eff3ce0b48348e30ae0fe1dfdb4a",
            "05eb373a926e4062b900d4f7a6b7a00a",
            "48586a4af6f44d57b61fbadde63b347f",
            "ee7373f0a94c4f69a804e356767cc5f3",
            "1789e1833401434c8abacdbee2daaf6a",
            "3a582e65d75749448c8afb399bf9ef48",
            "f8b9525624254169a4d779dddecc3879",
            "30d5a09737014d6e9645dcf03544b3b2",
            "c454a47931e147d3a233e1eef1b4a66c",
            "a132a6f72f134767ab378cda5fc28cc8",
            "4056f072c7c34e33994cc2c72441ce6d",
            "2c05c86a947f40a3bf3fe0e4b22a454f",
            "1b2ecaedfb424fc9b987f3fec3a44c05",
            "7e96fed374d0400a99b17f02781090c0",
            "5bfc0597883a476da1fb3662cea7e443",
            "1ba047a588ef406b86b99a5819bac24f",
            "63d63a29c9b84947832a41e73c763e65",
            "ba9da53253fa41bf95a8a36d6bd01810",
            "359ca3f488874ec7ac6c5c28a06cff0a",
            "ea8e5f99748246c0bc0019129ed0e7d9",
            "cdb65b902bf749b7b9fc358653383c08",
            "ab25c2032aed40988677db7ba899477a",
            "c2d70d1ccfd8473a9ea851dfad20f97a",
            "3008414fed1d4c3aa2f4385366cecd02",
            "0a9a17a06c834986badc43c46f7010cb",
            "b1d321db1bdf4f15bb68782711f2c14e",
            "909ccdf844884c15938d05bd60ef7e9c",
            "38f774f7143f4585b307e80eb998031e",
            "33e1274ca2834feb9fca873ff75daf0d",
            "faaad882093944e2afc7e73c622d3712",
            "342d49d65f7d439ba571e1305c8e5a7e",
            "f2ee6fd7babe4c39a113e91b2f8c89c9",
            "ac36bdced26e4c54abd630e0819d6e1f",
            "27183e3a1a804ca0890a5e61b63dabdd",
            "ca8d9c5c4da54ab7b2c7bc3da380ab8a",
            "4a06e3ff39424d7b9d364acfde38645b",
            "42ff1aaa8b4e493aae8c153ffbb9dabc",
            "0172a1d010c642d0bde49eb5c6763557",
            "7561045fec784a2482e539e7e6fe5f6e",
            "bacefa3dd2944919aee9ae5c06cb6b81",
            "f2c9b3f90f9045469fa1b08781d745f6"
          ]
        },
        "cellView": "form",
        "id": "uIdHN_8MnsYA",
        "outputId": "e6b37b27-710f-435a-ce51-c01894c33fba"
      },
      "execution_count": 4,
      "outputs": [
        {
          "output_type": "display_data",
          "data": {
            "text/plain": [
              "Tab(children=(VBox(children=(DatePicker(value=datetime.date(2025, 4, 13), description='基準日:'), IntText(value=0…"
            ],
            "application/vnd.jupyter.widget-view+json": {
              "version_major": 2,
              "version_minor": 0,
              "model_id": "42dcf93f322440bdb515a1d4d00df5c3"
            }
          },
          "metadata": {}
        }
      ]
    },
    {
      "cell_type": "code",
      "source": [
        "# @title カレンダー表示（複数月表示用）\n",
        "\n",
        "import calendar\n",
        "import datetime\n",
        "import jpholiday\n",
        "from IPython.display import HTML, display\n",
        "import ipywidgets as widgets\n",
        "\n",
        "# ▼複数月表示ウィジェット\n",
        "multi_year = widgets.IntText(description='年:', value=datetime.date.today().year)\n",
        "multi_month = widgets.IntSlider(description='開始月:', value=datetime.date.today().month, min=1, max=12)\n",
        "multi_count = widgets.IntSlider(description='表示月数:', value=3, min=1, max=12)\n",
        "multi_button = widgets.Button(description='表示する', button_style='primary')\n",
        "multi_output = widgets.Output()\n",
        "\n",
        "# ▼カレンダー生成関数\n",
        "def generate_month_calendar(year, month):\n",
        "    cal = calendar.Calendar(firstweekday=6)\n",
        "    html = f\"<h4>{year}年 {month}月</h4>\"\n",
        "    html += \"<table style='border-collapse: collapse; margin-bottom: 20px;'>\"\n",
        "    html += \"<tr>\" + \"\".join([f\"<th style='padding:4px; border: 1px solid #999;'>{day}</th>\" for day in [\"日\", \"月\", \"火\", \"水\", \"木\", \"金\", \"土\"]]) + \"</tr>\"\n",
        "\n",
        "    today = datetime.date.today()\n",
        "    for week in cal.monthdatescalendar(year, month):\n",
        "        html += \"<tr>\"\n",
        "        for day in week:\n",
        "            is_today = (day == today)\n",
        "            is_other_month = (day.month != month)\n",
        "            is_holiday = jpholiday.is_holiday(day)\n",
        "\n",
        "            style = \"padding:4px; border: 1px solid #999; text-align: center;\"\n",
        "            if is_other_month:\n",
        "                style += \"color: #aaa;\"\n",
        "            elif is_today:\n",
        "                style += \"background-color: #ffeb3b;\"\n",
        "            elif is_holiday or day.weekday() >= 5:\n",
        "                style += \"color: red;\"\n",
        "\n",
        "            tooltip = f\"title='{jpholiday.is_holiday_name(day)}'\" if is_holiday else \"\"\n",
        "            html += f\"<td style='{style}' {tooltip}>{day.day}</td>\"\n",
        "        html += \"</tr>\"\n",
        "    html += \"</table>\"\n",
        "    return html\n",
        "\n",
        "# ▼表示処理\n",
        "def show_multiple_months(b):\n",
        "    with multi_output:\n",
        "        multi_output.clear_output()\n",
        "        year = multi_year.value\n",
        "        start_month = multi_month.value\n",
        "        count = multi_count.value\n",
        "\n",
        "        html_all = \"\"\n",
        "        for i in range(count):\n",
        "            y = year + (start_month + i - 1) // 12\n",
        "            m = (start_month + i - 1) % 12 + 1\n",
        "            html_all += generate_month_calendar(y, m)\n",
        "\n",
        "        display(HTML(html_all))\n",
        "\n",
        "multi_button.on_click(show_multiple_months)\n",
        "multi_calendar_ui = widgets.VBox([\n",
        "    widgets.HTML(\"<h3>📅 複数月カレンダー表示</h3>\"),\n",
        "    multi_year,\n",
        "    multi_month,\n",
        "    multi_count,\n",
        "    multi_button,\n",
        "    multi_output\n",
        "])\n",
        "display(multi_calendar_ui)"
      ],
      "metadata": {
        "colab": {
          "base_uri": "https://localhost:8080/",
          "height": 813,
          "referenced_widgets": [
            "2c3bc1d1db854abd86f0c74560ac2deb",
            "0663b778bf8242908463d1083a41e934",
            "1dc9c207f9d240528de649f8abe68261",
            "c9c8cee12a344983ae56fe86b1682379",
            "2e8104fcc51d44b09cf82127af244903",
            "cf96b2c21c3d4ba0b1b071f6f3902373",
            "a83c9f590cb24d98bd6eaf833943b92b",
            "6463053bbce64821aeeea3dd956a2824",
            "b4e1232a71944f66b75e190e4321ee12",
            "30ed2bb5f96740b892867c97fca49c83",
            "7537f960182347b7a6a1fb9fecc8f482",
            "a99a7ecea63247739c4aa48418e77eec",
            "187d6a5bce5f42998221e702301ae230",
            "87e6745d987749e9918fc32e2552412d",
            "1163733d77b6400b9749c6fb9d172d11",
            "b52343a1c6f14f22b2a24470300e2f1c",
            "ffb8ac11ec2e4c81bd7678f8afb9af84",
            "50cb0302a14e491c9d6502fa38f7dae9",
            "2669340315a3454a9741eb5662bf02bc"
          ]
        },
        "cellView": "form",
        "id": "5En4wY_VqWre",
        "outputId": "5b91aa08-cc62-49d9-c8b1-7ec0eb01d4e9"
      },
      "execution_count": 7,
      "outputs": [
        {
          "output_type": "display_data",
          "data": {
            "text/plain": [
              "VBox(children=(HTML(value='<h3>📅 複数月カレンダー表示</h3>'), IntText(value=2025, description='年:'), IntSlider(value=4, …"
            ],
            "application/vnd.jupyter.widget-view+json": {
              "version_major": 2,
              "version_minor": 0,
              "model_id": "2c3bc1d1db854abd86f0c74560ac2deb"
            }
          },
          "metadata": {}
        }
      ]
    },
    {
      "cell_type": "code",
      "source": [
        "!apt-get install -y libpangocairo-1.0-0\n",
        "!pip install -q weasyprint cairosvg"
      ],
      "metadata": {
        "colab": {
          "base_uri": "https://localhost:8080/"
        },
        "id": "YlknP1Rbu2ed",
        "outputId": "5a156534-ae89-4858-a080-19b8bf351809"
      },
      "execution_count": 14,
      "outputs": [
        {
          "output_type": "stream",
          "name": "stdout",
          "text": [
            "Reading package lists... Done\n",
            "Building dependency tree... Done\n",
            "Reading state information... Done\n",
            "libpangocairo-1.0-0 is already the newest version (1.50.6+ds-2ubuntu1).\n",
            "libpangocairo-1.0-0 set to manually installed.\n",
            "0 upgraded, 0 newly installed, 0 to remove and 29 not upgraded.\n",
            "\u001b[2K   \u001b[90m━━━━━━━━━━━━━━━━━━━━━━━━━━━━━━━━━━━━━━━━\u001b[0m \u001b[32m43.2/43.2 kB\u001b[0m \u001b[31m1.7 MB/s\u001b[0m eta \u001b[36m0:00:00\u001b[0m\n",
            "\u001b[2K   \u001b[90m━━━━━━━━━━━━━━━━━━━━━━━━━━━━━━━━━━━━━━━━\u001b[0m \u001b[32m75.6/75.6 kB\u001b[0m \u001b[31m3.1 MB/s\u001b[0m eta \u001b[36m0:00:00\u001b[0m\n",
            "\u001b[?25h"
          ]
        }
      ]
    },
    {
      "cell_type": "code",
      "source": [
        "!apt-get install -y poppler-utils\n",
        "!pip install -q weasyprint pdf2image"
      ],
      "metadata": {
        "colab": {
          "base_uri": "https://localhost:8080/"
        },
        "id": "F4xmjCTuyg7a",
        "outputId": "bde2fa69-4d90-46a9-ebdd-319dbedcada6"
      },
      "execution_count": 16,
      "outputs": [
        {
          "output_type": "stream",
          "name": "stdout",
          "text": [
            "Reading package lists... Done\n",
            "Building dependency tree... Done\n",
            "Reading state information... Done\n",
            "The following NEW packages will be installed:\n",
            "  poppler-utils\n",
            "0 upgraded, 1 newly installed, 0 to remove and 29 not upgraded.\n",
            "Need to get 186 kB of archives.\n",
            "After this operation, 696 kB of additional disk space will be used.\n",
            "Get:1 http://archive.ubuntu.com/ubuntu jammy-updates/main amd64 poppler-utils amd64 22.02.0-2ubuntu0.7 [186 kB]\n",
            "Fetched 186 kB in 0s (759 kB/s)\n",
            "Selecting previously unselected package poppler-utils.\n",
            "(Reading database ... 126765 files and directories currently installed.)\n",
            "Preparing to unpack .../poppler-utils_22.02.0-2ubuntu0.7_amd64.deb ...\n",
            "Unpacking poppler-utils (22.02.0-2ubuntu0.7) ...\n",
            "Setting up poppler-utils (22.02.0-2ubuntu0.7) ...\n",
            "Processing triggers for man-db (2.10.2-1) ...\n"
          ]
        }
      ]
    },
    {
      "cell_type": "code",
      "source": [
        "from weasyprint import HTML as WeasyHTML\n",
        "from weasyprint.text.fonts import FontConfiguration\n",
        "from pdf2image import convert_from_path\n",
        "from IPython.display import display, HTML\n",
        "import os\n",
        "import datetime\n",
        "import calendar\n",
        "import jpholiday\n",
        "import ipywidgets as widgets\n",
        "from google.colab import files\n",
        "\n",
        "# ▼HTML生成（複数月分）\n",
        "def generate_full_calendar_html(year, start_month, count):\n",
        "    cal = calendar.Calendar(firstweekday=6)\n",
        "    today = datetime.date.today()\n",
        "\n",
        "    html = \"<style>td, th { padding:4px; border:1px solid #999; text-align:center; }</style>\"\n",
        "    for i in range(count):\n",
        "        y = year + (start_month + i - 1) // 12\n",
        "        m = (start_month + i - 1) % 12 + 1\n",
        "        html += f\"<h4>{y}年 {m}月</h4>\"\n",
        "        html += \"<table><tr>\" + \"\".join([f\"<th>{d}</th>\" for d in [\"日\", \"月\", \"火\", \"水\", \"木\", \"金\", \"土\"]]) + \"</tr>\"\n",
        "\n",
        "        for week in cal.monthdatescalendar(y, m):\n",
        "            html += \"<tr>\"\n",
        "            for day in week:\n",
        "                is_today = (day == today)\n",
        "                is_other_month = (day.month != m)\n",
        "                is_holiday = jpholiday.is_holiday(day)\n",
        "\n",
        "                style = \"\"\n",
        "                if is_other_month:\n",
        "                    style += \"color: #aaa;\"\n",
        "                elif is_today:\n",
        "                    style += \"background-color: #ffeb3b;\"\n",
        "                elif is_holiday or day.weekday() >= 5:\n",
        "                    style += \"color: red;\"\n",
        "\n",
        "                tooltip = f\"title='{jpholiday.is_holiday_name(day)}'\" if is_holiday else \"\"\n",
        "                html += f\"<td style='{style}' {tooltip}>{day.day}</td>\"\n",
        "            html += \"</tr>\"\n",
        "        html += \"</table><br>\"\n",
        "\n",
        "    return html\n",
        "\n",
        "# ▼保存処理\n",
        "def save_calendar_as_image_pdf(year, start_month, count):\n",
        "    html = generate_full_calendar_html(year, start_month, count)\n",
        "    filename_base = f\"calendar_{year}_{start_month}_{count}months\"\n",
        "\n",
        "    os.makedirs(\"calendar_output\", exist_ok=True)\n",
        "    html_path = f\"calendar_output/{filename_base}.html\"\n",
        "    with open(html_path, \"w\", encoding=\"utf-8\") as f:\n",
        "        f.write(html)\n",
        "\n",
        "    # PDF出力\n",
        "    pdf_path = f\"calendar_output/{filename_base}.pdf\"\n",
        "    font_config = FontConfiguration()\n",
        "    WeasyHTML(string=html).write_pdf(pdf_path, font_config=font_config)\n",
        "\n",
        "    # PNG出力（PDFから画像へ）\n",
        "    png_path = f\"calendar_output/{filename_base}.png\"\n",
        "    images = convert_from_path(pdf_path)\n",
        "    images[0].save(png_path, 'PNG')  # 最初のページのみ保存（カレンダーは1ページのはず）\n",
        "\n",
        "    print(\"✅ PDFとPNGを保存しました！\")\n",
        "    files.download(pdf_path)\n",
        "    files.download(png_path)\n",
        "\n",
        "# ▼UIウィジェット\n",
        "year_input = widgets.IntText(description=\"年:\", value=datetime.date.today().year)\n",
        "month_input = widgets.IntSlider(description=\"開始月:\", value=datetime.date.today().month, min=1, max=12)\n",
        "count_input = widgets.IntSlider(description=\"表示月数:\", value=3, min=1, max=12)\n",
        "save_button = widgets.Button(description=\"PNG & PDF 保存\", button_style='success')\n",
        "save_output = widgets.Output()\n",
        "\n",
        "def on_save_clicked(b):\n",
        "    with save_output:\n",
        "        save_output.clear_output()\n",
        "        save_calendar_as_image_pdf(year_input.value, month_input.value, count_input.value)\n",
        "\n",
        "save_button.on_click(on_save_clicked)\n",
        "\n",
        "# ▼表示UI\n",
        "calendar_save_ui = widgets.VBox([\n",
        "    widgets.HTML(\"<h3>🖨️ カレンダーをPNG & PDFで保存</h3>\"),\n",
        "    year_input,\n",
        "    month_input,\n",
        "    count_input,\n",
        "    save_button,\n",
        "    save_output\n",
        "])\n",
        "display(calendar_save_ui)"
      ],
      "metadata": {
        "colab": {
          "base_uri": "https://localhost:8080/",
          "height": 1000,
          "referenced_widgets": [
            "a9da367febd542829235ef05067f25de",
            "6f5bab60575f473ea03060125ca50dd0",
            "7ede7a7ccff24b099d6c5bc2adc1f96d",
            "beeb2922e958489c90784bff30d34886",
            "d1232a51d23f4e688009c9fd509bc47a",
            "58ee05805caf436e9fd82324585f6379",
            "1380ccc14f924e7ca3733a690cd36f58",
            "f4dc1e7d7f2e481590143fccb79f7f83",
            "cdc63efdc4924c6fa487b498d7d772a2",
            "25977053f0e34534ab3326de80c23768",
            "a51313b98d564652b761cc4efb48f8d2",
            "09368f3666714264ad5f8d4178593dfd",
            "66c36f41560943c89d0ddf613b068af5",
            "b17b85d210ad4ae6ba4bdbef27025d7c",
            "7d051f863cda48959ec1da778ff9fc6d",
            "92c03fef24d54b1a832d5e45f18e16e9",
            "2e389a77aba14d58a3930976d0b6eefb",
            "148651580dcc4cfe9f6925d677da25ee",
            "c39b0214d485463d8788448fdeeefcff"
          ]
        },
        "id": "ane8O1dyrN3T",
        "outputId": "fa31a7ca-11ac-4aeb-8fe3-8b494ac22ef6"
      },
      "execution_count": 17,
      "outputs": [
        {
          "output_type": "display_data",
          "data": {
            "text/plain": [
              "VBox(children=(HTML(value='<h3>🖨️ カレンダーをPNG & PDFで保存</h3>'), IntText(value=2025, description='年:'), IntSlider(…"
            ],
            "application/vnd.jupyter.widget-view+json": {
              "version_major": 2,
              "version_minor": 0,
              "model_id": "a9da367febd542829235ef05067f25de"
            }
          },
          "metadata": {}
        }
      ]
    },
    {
      "cell_type": "markdown",
      "source": [
        "---\n",
        "\n",
        "## 📄 日付計算アプリ 仕様書（Google Colab対応・Python）\n",
        "\n",
        "### 🎯 アプリ概要\n",
        "ユーザーが基準日と日数を入力すると、「何日後」「何日前」の日付を計算して表示するアプリケーション。\n",
        "\n",
        "---\n",
        "\n",
        "### 🛠️ 開発環境\n",
        "- **使用言語**：Python 3.x  \n",
        "- **実行環境**：Google Colaboratory  \n",
        "- **ライブラリ**：\n",
        "  - `datetime`（標準ライブラリ）\n",
        "  - `IPython.display`（Colab用UI補助）\n",
        "  - `ipywidgets`（インタラクティブUI）\n",
        "\n",
        "---\n",
        "\n",
        "### 📌 主な機能\n",
        "\n",
        "| 機能名 | 内容 |\n",
        "|--------|------|\n",
        "| 基準日入力 | ユーザーが計算の基準となる日付をカレンダーまたはテキストで入力できる |\n",
        "| 日数入力 | 「何日後」「何日前」などの加減日数を整数で入力可能（正負対応） |\n",
        "| 結果表示 | 計算された日付を見やすく表示 |\n",
        "| 日付フォーマット対応 | 結果を`YYYY-MM-DD`形式で表示。必要に応じて和暦や曜日なども表示可能 |\n",
        "| 双方向計算 | 「未来の日付 → 何日後か」「過去の日付 → 何日前か」など逆算も可能（※オプション） |\n",
        "| UI対応 | `ipywidgets`によるGUIで操作（カレンダー・スライダー・ボタンなど） |\n",
        "\n",
        "---\n",
        "\n",
        "### 🧩 オプション機能（将来的に追加可能）\n",
        "\n",
        "- 曜日表示（例：2025-04-13（日））\n",
        "- 範囲計算（指定した2つの日付間の日数を計算）\n",
        "- 月単位・年単位の加減（日付 + 月、日付 + 年）\n",
        "- 祝日考慮（日本の祝日を除外して計算）\n",
        "\n",
        "---\n",
        "\n",
        "### 🖼️ 画面イメージ（UI構成）\n",
        "\n",
        "```\n",
        "📅 基準日：[ 2025-04-13 ]（カレンダーウィジェット）\n",
        "🔢 日数：[ -5 ] 日（スライダー or テキスト入力）\n",
        "📌 結果：2025-04-08（火）\n",
        "\n",
        "[ 計算する ] ボタン\n",
        "```\n",
        "\n",
        "---\n",
        "\n",
        "### ✅ 処理フロー（基本的なロジック）\n",
        "\n",
        "1. 基準日と加減する日数を取得\n",
        "2. `datetime.timedelta`を使用して日付計算\n",
        "3. 結果を所定の形式で表示\n",
        "4. 入力が不正な場合はエラーメッセージ表示\n",
        "\n",
        "---"
      ],
      "metadata": {
        "id": "RYyvqafUDgSV"
      }
    }
  ]
}