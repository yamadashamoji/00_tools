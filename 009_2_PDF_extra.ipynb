{
  "nbformat": 4,
  "nbformat_minor": 0,
  "metadata": {
    "colab": {
      "provenance": [],
      "authorship_tag": "ABX9TyNzq7fVedZDjUrSAF9Nuso9",
      "include_colab_link": true
    },
    "kernelspec": {
      "name": "python3",
      "display_name": "Python 3"
    },
    "language_info": {
      "name": "python"
    }
  },
  "cells": [
    {
      "cell_type": "markdown",
      "metadata": {
        "id": "view-in-github",
        "colab_type": "text"
      },
      "source": [
        "<a href=\"https://colab.research.google.com/github/yamadashamoji/tools/blob/main/009_2_PDF_extra.ipynb\" target=\"_parent\"><img src=\"https://colab.research.google.com/assets/colab-badge.svg\" alt=\"Open In Colab\"/></a>"
      ]
    },
    {
      "cell_type": "code",
      "execution_count": null,
      "metadata": {
        "id": "7WSKg0XIWFH5"
      },
      "outputs": [],
      "source": [
        "!pip install PyMuPDF\n",
        "import fitz  # PyMuPDF\n",
        "import ipywidgets as widgets\n",
        "from IPython.display import display\n",
        "from google.colab import files\n",
        "\n",
        "# アップロードウィジェット\n",
        "upload_btn = widgets.FileUpload(accept='.pdf', multiple=False)\n",
        "display(upload_btn)\n",
        "\n",
        "# 抽出ボタン\n",
        "output = widgets.Output()\n",
        "page_input = widgets.Text(description='ページ指定:', placeholder='例: 1,3-5（空欄なら全ページ）')\n",
        "extract_btn = widgets.Button(description='テキスト抽出', button_style='success')\n",
        "display(page_input, extract_btn, output)\n",
        "\n",
        "def extract_text(change):\n",
        "    output.clear_output()\n",
        "    if not upload_btn.value:\n",
        "        with output:\n",
        "            print(\"PDFファイルをアップロードしてください。\")\n",
        "        return\n",
        "\n",
        "    uploaded_file = list(upload_btn.value.values())[0]\n",
        "    pdf_bytes = uploaded_file['content']\n",
        "    doc = fitz.open(stream=pdf_bytes, filetype=\"pdf\")\n",
        "\n",
        "    # ページ指定の解析\n",
        "    selected_pages = []\n",
        "    if page_input.value.strip():\n",
        "        import re\n",
        "        for part in page_input.value.split(','):\n",
        "            if '-' in part:\n",
        "                start, end = map(int, part.split('-'))\n",
        "                selected_pages.extend(range(start-1, end))\n",
        "            else:\n",
        "                selected_pages.append(int(part)-1)\n",
        "    else:\n",
        "        selected_pages = list(range(len(doc)))\n",
        "\n",
        "    text = \"\"\n",
        "    for i in selected_pages:\n",
        "        if 0 <= i < len(doc):\n",
        "            text += f\"--- ページ {i+1} ---\\n\"\n",
        "            text += doc[i].get_text()\n",
        "            text += \"\\n\\n\"\n",
        "\n",
        "    with open(\"extracted_text.txt\", \"w\", encoding=\"utf-8\") as f:\n",
        "        f.write(text)\n",
        "\n",
        "    with output:\n",
        "        print(text[:1000])  # 最初の1000文字だけ表示\n",
        "        print(\"...（以下省略）\")\n",
        "        print(\"\\nテキストを抽出しました。下記からダウンロード可能です。\")\n",
        "\n",
        "    files.download(\"extracted_text.txt\")\n",
        "\n",
        "extract_btn.on_click(extract_text)\n"
      ]
    },
    {
      "cell_type": "code",
      "source": [],
      "metadata": {
        "id": "qeM4YSCQWT4N"
      },
      "execution_count": null,
      "outputs": []
    }
  ]
}