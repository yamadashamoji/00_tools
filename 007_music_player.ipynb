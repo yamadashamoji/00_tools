{
  "nbformat": 4,
  "nbformat_minor": 0,
  "metadata": {
    "colab": {
      "provenance": [],
      "authorship_tag": "ABX9TyNKjDx31+85zZeXwRFY17Rp",
      "include_colab_link": true
    },
    "kernelspec": {
      "name": "python3",
      "display_name": "Python 3"
    },
    "language_info": {
      "name": "python"
    }
  },
  "cells": [
    {
      "cell_type": "markdown",
      "metadata": {
        "id": "view-in-github",
        "colab_type": "text"
      },
      "source": [
        "<a href=\"https://colab.research.google.com/github/yamadashamoji/tools/blob/main/007_music_player.ipynb\" target=\"_parent\"><img src=\"https://colab.research.google.com/assets/colab-badge.svg\" alt=\"Open In Colab\"/></a>"
      ]
    },
    {
      "cell_type": "code",
      "execution_count": null,
      "metadata": {
        "id": "5VKf_b1hPe1h"
      },
      "outputs": [],
      "source": [
        "# @title 音楽プレイヤー\n",
        "\n",
        "!pip install -q pydub\n",
        "\n",
        "import io\n",
        "import numpy as np\n",
        "from pydub import AudioSegment\n",
        "from IPython.display import display, Audio, clear_output\n",
        "import ipywidgets as widgets\n",
        "from google.colab import files\n",
        "\n",
        "# ファイルアップロード\n",
        "uploaded = files.upload()\n",
        "\n",
        "# プレイリスト作成\n",
        "playlist = {}\n",
        "for name, file in uploaded.items():\n",
        "    playlist[name] = AudioSegment.from_file(io.BytesIO(file))\n",
        "\n",
        "# ドロップダウンでファイル選択\n",
        "dropdown = widgets.Dropdown(\n",
        "    options=list(playlist.keys()),\n",
        "    description='曲選択:',\n",
        "    style={'description_width': 'initial'},\n",
        "    layout=widgets.Layout(width='50%')\n",
        ")\n",
        "\n",
        "# 音量スライダー（dB）\n",
        "volume_slider = widgets.FloatSlider(\n",
        "    value=0,\n",
        "    min=-20,\n",
        "    max=20,\n",
        "    step=1,\n",
        "    description='音量調整 (dB):',\n",
        "    continuous_update=False,\n",
        "    style={'description_width': 'initial'},\n",
        "    layout=widgets.Layout(width='70%')\n",
        ")\n",
        "\n",
        "# 再生ボタン\n",
        "play_button = widgets.Button(\n",
        "    description='再生 ▶️',\n",
        "    button_style='success'\n",
        ")\n",
        "\n",
        "# 音声出力用出力領域\n",
        "audio_output = widgets.Output()\n",
        "\n",
        "# 再生関数\n",
        "def play_audio(change=None):\n",
        "    with audio_output:\n",
        "        clear_output()\n",
        "        selected = dropdown.value\n",
        "        volume = volume_slider.value\n",
        "        # 音量調整\n",
        "        sound = playlist[selected] + volume\n",
        "        # 再生用にデータをバイナリとして変換\n",
        "        buffer = io.BytesIO()\n",
        "        sound.export(buffer, format='mp3')\n",
        "        display(Audio(buffer.getvalue()))\n",
        "\n",
        "play_button.on_click(play_audio)\n",
        "\n",
        "# UI表示\n",
        "ui = widgets.VBox([\n",
        "    widgets.HTML(\"<h3>🎵 簡易MP3プレイヤー 🎵</h3>\"),\n",
        "    dropdown,\n",
        "    volume_slider,\n",
        "    play_button,\n",
        "    audio_output\n",
        "])\n",
        "\n",
        "display(ui)\n"
      ]
    },
    {
      "cell_type": "code",
      "source": [],
      "metadata": {
        "id": "ilwvt8uyQMWi"
      },
      "execution_count": null,
      "outputs": []
    }
  ]
}