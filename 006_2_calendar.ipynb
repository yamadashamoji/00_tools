{
  "nbformat": 4,
  "nbformat_minor": 0,
  "metadata": {
    "colab": {
      "provenance": [],
      "authorship_tag": "ABX9TyNtTRdj+t6vV5usNTSIUJPK",
      "include_colab_link": true
    },
    "kernelspec": {
      "name": "python3",
      "display_name": "Python 3"
    },
    "language_info": {
      "name": "python"
    }
  },
  "cells": [
    {
      "cell_type": "markdown",
      "metadata": {
        "id": "view-in-github",
        "colab_type": "text"
      },
      "source": [
        "<a href=\"https://colab.research.google.com/github/yamadashamoji/tools/blob/main/006_2_calendar.ipynb\" target=\"_parent\"><img src=\"https://colab.research.google.com/assets/colab-badge.svg\" alt=\"Open In Colab\"/></a>"
      ]
    },
    {
      "cell_type": "code",
      "execution_count": null,
      "metadata": {
        "id": "tcfVkKHK2N1Q"
      },
      "outputs": [],
      "source": [
        "!pip install -q python-dateutil\n",
        "!pip install -q jpholiday\n",
        "!apt-get install -y poppler-utils\n",
        "!pip install -q weasyprint pdf2image"
      ]
    },
    {
      "cell_type": "code",
      "source": [
        "# @title カレンダー表示（複数月表示用）\n",
        "\n",
        "from weasyprint import HTML as WeasyHTML\n",
        "from weasyprint.text.fonts import FontConfiguration\n",
        "from pdf2image import convert_from_path\n",
        "from IPython.display import display, HTML\n",
        "import os\n",
        "import datetime\n",
        "import calendar\n",
        "import jpholiday\n",
        "import ipywidgets as widgets\n",
        "from google.colab import files\n",
        "\n",
        "# ▼HTML生成（複数月分）\n",
        "def generate_full_calendar_html(year, start_month, count):\n",
        "    cal = calendar.Calendar(firstweekday=6)\n",
        "    today = datetime.date.today()\n",
        "\n",
        "    html = \"<style>td, th { padding:4px; border:1px solid #999; text-align:center; }</style>\"\n",
        "    for i in range(count):\n",
        "        y = year + (start_month + i - 1) // 12\n",
        "        m = (start_month + i - 1) % 12 + 1\n",
        "        html += f\"<h4>{y}年 {m}月</h4>\"\n",
        "        html += \"<table><tr>\" + \"\".join([f\"<th>{d}</th>\" for d in [\"日\", \"月\", \"火\", \"水\", \"木\", \"金\", \"土\"]]) + \"</tr>\"\n",
        "\n",
        "        for week in cal.monthdatescalendar(y, m):\n",
        "            html += \"<tr>\"\n",
        "            for day in week:\n",
        "                is_today = (day == today)\n",
        "                is_other_month = (day.month != m)\n",
        "                is_holiday = jpholiday.is_holiday(day)\n",
        "\n",
        "                style = \"\"\n",
        "                if is_other_month:\n",
        "                    style += \"color: #aaa;\"\n",
        "                elif is_today:\n",
        "                    style += \"background-color: #ffeb3b;\"\n",
        "                elif is_holiday or day.weekday() >= 5:\n",
        "                    style += \"color: red;\"\n",
        "\n",
        "                tooltip = f\"title='{jpholiday.is_holiday_name(day)}'\" if is_holiday else \"\"\n",
        "                html += f\"<td style='{style}' {tooltip}>{day.day}</td>\"\n",
        "            html += \"</tr>\"\n",
        "        html += \"</table><br>\"\n",
        "\n",
        "    return html\n",
        "\n",
        "# ▼保存処理\n",
        "def save_calendar_as_image_pdf(year, start_month, count):\n",
        "    html = generate_full_calendar_html(year, start_month, count)\n",
        "    filename_base = f\"calendar_{year}_{start_month}_{count}months\"\n",
        "\n",
        "    os.makedirs(\"calendar_output\", exist_ok=True)\n",
        "    html_path = f\"calendar_output/{filename_base}.html\"\n",
        "    with open(html_path, \"w\", encoding=\"utf-8\") as f:\n",
        "        f.write(html)\n",
        "\n",
        "    # PDF出力\n",
        "    pdf_path = f\"calendar_output/{filename_base}.pdf\"\n",
        "    font_config = FontConfiguration()\n",
        "    WeasyHTML(string=html).write_pdf(pdf_path, font_config=font_config)\n",
        "\n",
        "    # PNG出力（PDFから画像へ）\n",
        "    png_path = f\"calendar_output/{filename_base}.png\"\n",
        "    images = convert_from_path(pdf_path)\n",
        "    images[0].save(png_path, 'PNG')  # 最初のページのみ保存（カレンダーは1ページのはず）\n",
        "\n",
        "    print(\"✅ PDFとPNGを保存しました！\")\n",
        "    files.download(pdf_path)\n",
        "    files.download(png_path)\n",
        "\n",
        "# ▼UIウィジェット\n",
        "year_input = widgets.IntText(description=\"年:\", value=datetime.date.today().year)\n",
        "month_input = widgets.IntSlider(description=\"開始月:\", value=datetime.date.today().month, min=1, max=12)\n",
        "count_input = widgets.IntSlider(description=\"表示月数:\", value=3, min=1, max=12)\n",
        "save_button = widgets.Button(description=\"PNG & PDF 保存\", button_style='success')\n",
        "save_output = widgets.Output()\n",
        "\n",
        "def on_save_clicked(b):\n",
        "    with save_output:\n",
        "        save_output.clear_output()\n",
        "        save_calendar_as_image_pdf(year_input.value, month_input.value, count_input.value)\n",
        "\n",
        "save_button.on_click(on_save_clicked)\n",
        "\n",
        "# ▼表示UI\n",
        "calendar_save_ui = widgets.VBox([\n",
        "    widgets.HTML(\"<h3>🖨️ カレンダーをPNG & PDFで保存</h3>\"),\n",
        "    year_input,\n",
        "    month_input,\n",
        "    count_input,\n",
        "    save_button,\n",
        "    save_output\n",
        "])\n",
        "display(calendar_save_ui)"
      ],
      "metadata": {
        "id": "cfbh60qN2Xon"
      },
      "execution_count": null,
      "outputs": []
    }
  ]
}